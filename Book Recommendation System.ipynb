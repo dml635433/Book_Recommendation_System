{
 "cells": [
  {
   "cell_type": "markdown",
   "id": "cc217ba6",
   "metadata": {},
   "source": [
    "- bookID: Unique identification number fro each book\n",
    "- title: Name under which book was published\n",
    "- authors: Name of the Authors of the book\n",
    "- average_rating: Avarage rating of the book recevied in total.\n",
    "- isbn: International standarded book number\n",
    "- isbn13: 13 digit isbn to identify the book\n",
    "- language_code: Primary Language of the book\n",
    "- num_pages: Number of pages the book containes\n",
    "- ratings_count: Total Number of ratings the book recevied.\n",
    "- text_reviews_count: Total number of written reviews recevied.\n",
    "- publication_date: Date when the book was first published\n",
    "- publisher: Name of the Pulishers"
   ]
  },
  {
   "cell_type": "code",
   "execution_count": 1,
   "id": "7af4f12e",
   "metadata": {},
   "outputs": [],
   "source": [
    "import pandas as pd\n",
    "import numpy as np\n",
    "\n",
    "# for data visualisation\n",
    "import matplotlib.pyplot as plt\n",
    "import seaborn as sns\n",
    "\n",
    "# for interactive plots\n",
    "import ipywidgets\n",
    "from ipywidgets import interact\n",
    "from ipywidgets import interact_manual"
   ]
  },
  {
   "cell_type": "code",
   "execution_count": 2,
   "id": "07bb6ad5",
   "metadata": {},
   "outputs": [
    {
     "name": "stderr",
     "output_type": "stream",
     "text": [
      "b'Skipping line 3350: expected 12 fields, saw 13\\nSkipping line 4704: expected 12 fields, saw 13\\nSkipping line 5879: expected 12 fields, saw 13\\nSkipping line 8981: expected 12 fields, saw 13\\n'\n"
     ]
    }
   ],
   "source": [
    "df = pd.read_csv(\"books.csv\", error_bad_lines = False)"
   ]
  },
  {
   "cell_type": "code",
   "execution_count": 3,
   "id": "4b640a4f",
   "metadata": {},
   "outputs": [
    {
     "data": {
      "text/html": [
       "<div>\n",
       "<style scoped>\n",
       "    .dataframe tbody tr th:only-of-type {\n",
       "        vertical-align: middle;\n",
       "    }\n",
       "\n",
       "    .dataframe tbody tr th {\n",
       "        vertical-align: top;\n",
       "    }\n",
       "\n",
       "    .dataframe thead th {\n",
       "        text-align: right;\n",
       "    }\n",
       "</style>\n",
       "<table border=\"1\" class=\"dataframe\">\n",
       "  <thead>\n",
       "    <tr style=\"text-align: right;\">\n",
       "      <th></th>\n",
       "      <th>bookID</th>\n",
       "      <th>title</th>\n",
       "      <th>authors</th>\n",
       "      <th>average_rating</th>\n",
       "      <th>isbn</th>\n",
       "      <th>isbn13</th>\n",
       "      <th>language_code</th>\n",
       "      <th>num_pages</th>\n",
       "      <th>ratings_count</th>\n",
       "      <th>text_reviews_count</th>\n",
       "      <th>publication_date</th>\n",
       "      <th>publisher</th>\n",
       "    </tr>\n",
       "  </thead>\n",
       "  <tbody>\n",
       "    <tr>\n",
       "      <th>0</th>\n",
       "      <td>1</td>\n",
       "      <td>Harry Potter and the Half-Blood Prince (Harry ...</td>\n",
       "      <td>J.K. Rowling/Mary GrandPré</td>\n",
       "      <td>4.57</td>\n",
       "      <td>0439785960</td>\n",
       "      <td>9780439785969</td>\n",
       "      <td>eng</td>\n",
       "      <td>652</td>\n",
       "      <td>2095690</td>\n",
       "      <td>27591</td>\n",
       "      <td>9/16/2006</td>\n",
       "      <td>Scholastic Inc.</td>\n",
       "    </tr>\n",
       "    <tr>\n",
       "      <th>1</th>\n",
       "      <td>2</td>\n",
       "      <td>Harry Potter and the Order of the Phoenix (Har...</td>\n",
       "      <td>J.K. Rowling/Mary GrandPré</td>\n",
       "      <td>4.49</td>\n",
       "      <td>0439358078</td>\n",
       "      <td>9780439358071</td>\n",
       "      <td>eng</td>\n",
       "      <td>870</td>\n",
       "      <td>2153167</td>\n",
       "      <td>29221</td>\n",
       "      <td>9/1/2004</td>\n",
       "      <td>Scholastic Inc.</td>\n",
       "    </tr>\n",
       "    <tr>\n",
       "      <th>2</th>\n",
       "      <td>4</td>\n",
       "      <td>Harry Potter and the Chamber of Secrets (Harry...</td>\n",
       "      <td>J.K. Rowling</td>\n",
       "      <td>4.42</td>\n",
       "      <td>0439554896</td>\n",
       "      <td>9780439554893</td>\n",
       "      <td>eng</td>\n",
       "      <td>352</td>\n",
       "      <td>6333</td>\n",
       "      <td>244</td>\n",
       "      <td>11/1/2003</td>\n",
       "      <td>Scholastic</td>\n",
       "    </tr>\n",
       "    <tr>\n",
       "      <th>3</th>\n",
       "      <td>5</td>\n",
       "      <td>Harry Potter and the Prisoner of Azkaban (Harr...</td>\n",
       "      <td>J.K. Rowling/Mary GrandPré</td>\n",
       "      <td>4.56</td>\n",
       "      <td>043965548X</td>\n",
       "      <td>9780439655484</td>\n",
       "      <td>eng</td>\n",
       "      <td>435</td>\n",
       "      <td>2339585</td>\n",
       "      <td>36325</td>\n",
       "      <td>5/1/2004</td>\n",
       "      <td>Scholastic Inc.</td>\n",
       "    </tr>\n",
       "    <tr>\n",
       "      <th>4</th>\n",
       "      <td>8</td>\n",
       "      <td>Harry Potter Boxed Set  Books 1-5 (Harry Potte...</td>\n",
       "      <td>J.K. Rowling/Mary GrandPré</td>\n",
       "      <td>4.78</td>\n",
       "      <td>0439682584</td>\n",
       "      <td>9780439682589</td>\n",
       "      <td>eng</td>\n",
       "      <td>2690</td>\n",
       "      <td>41428</td>\n",
       "      <td>164</td>\n",
       "      <td>9/13/2004</td>\n",
       "      <td>Scholastic</td>\n",
       "    </tr>\n",
       "  </tbody>\n",
       "</table>\n",
       "</div>"
      ],
      "text/plain": [
       "   bookID                                              title  \\\n",
       "0       1  Harry Potter and the Half-Blood Prince (Harry ...   \n",
       "1       2  Harry Potter and the Order of the Phoenix (Har...   \n",
       "2       4  Harry Potter and the Chamber of Secrets (Harry...   \n",
       "3       5  Harry Potter and the Prisoner of Azkaban (Harr...   \n",
       "4       8  Harry Potter Boxed Set  Books 1-5 (Harry Potte...   \n",
       "\n",
       "                      authors  average_rating        isbn         isbn13  \\\n",
       "0  J.K. Rowling/Mary GrandPré            4.57  0439785960  9780439785969   \n",
       "1  J.K. Rowling/Mary GrandPré            4.49  0439358078  9780439358071   \n",
       "2                J.K. Rowling            4.42  0439554896  9780439554893   \n",
       "3  J.K. Rowling/Mary GrandPré            4.56  043965548X  9780439655484   \n",
       "4  J.K. Rowling/Mary GrandPré            4.78  0439682584  9780439682589   \n",
       "\n",
       "  language_code    num_pages  ratings_count  text_reviews_count  \\\n",
       "0           eng          652        2095690               27591   \n",
       "1           eng          870        2153167               29221   \n",
       "2           eng          352           6333                 244   \n",
       "3           eng          435        2339585               36325   \n",
       "4           eng         2690          41428                 164   \n",
       "\n",
       "  publication_date        publisher  \n",
       "0        9/16/2006  Scholastic Inc.  \n",
       "1         9/1/2004  Scholastic Inc.  \n",
       "2        11/1/2003       Scholastic  \n",
       "3         5/1/2004  Scholastic Inc.  \n",
       "4        9/13/2004       Scholastic  "
      ]
     },
     "execution_count": 3,
     "metadata": {},
     "output_type": "execute_result"
    }
   ],
   "source": [
    "df.head(5)"
   ]
  },
  {
   "cell_type": "code",
   "execution_count": 4,
   "id": "cca075b4",
   "metadata": {},
   "outputs": [
    {
     "data": {
      "text/plain": [
       "(11123, 12)"
      ]
     },
     "execution_count": 4,
     "metadata": {},
     "output_type": "execute_result"
    }
   ],
   "source": [
    "df.shape"
   ]
  },
  {
   "cell_type": "code",
   "execution_count": 5,
   "id": "6a0eb1eb",
   "metadata": {},
   "outputs": [
    {
     "data": {
      "text/plain": [
       "Index(['bookID', 'title', 'authors', 'average_rating', 'isbn', 'isbn13',\n",
       "       'language_code', '  num_pages', 'ratings_count', 'text_reviews_count',\n",
       "       'publication_date', 'publisher'],\n",
       "      dtype='object')"
      ]
     },
     "execution_count": 5,
     "metadata": {},
     "output_type": "execute_result"
    }
   ],
   "source": [
    "df.columns"
   ]
  },
  {
   "cell_type": "code",
   "execution_count": 6,
   "id": "0252b668",
   "metadata": {},
   "outputs": [],
   "source": [
    "df.columns = df.columns.str.strip()"
   ]
  },
  {
   "cell_type": "code",
   "execution_count": 7,
   "id": "4b70fb2e",
   "metadata": {},
   "outputs": [
    {
     "data": {
      "text/plain": [
       "Index(['bookID', 'title', 'authors', 'average_rating', 'isbn', 'isbn13',\n",
       "       'language_code', 'num_pages', 'ratings_count', 'text_reviews_count',\n",
       "       'publication_date', 'publisher'],\n",
       "      dtype='object')"
      ]
     },
     "execution_count": 7,
     "metadata": {},
     "output_type": "execute_result"
    }
   ],
   "source": [
    "df.columns"
   ]
  },
  {
   "cell_type": "code",
   "execution_count": 8,
   "id": "bd5b9b83",
   "metadata": {},
   "outputs": [
    {
     "data": {
      "text/plain": [
       "bookID                  int64\n",
       "title                  object\n",
       "authors                object\n",
       "average_rating        float64\n",
       "isbn                   object\n",
       "isbn13                  int64\n",
       "language_code          object\n",
       "num_pages               int64\n",
       "ratings_count           int64\n",
       "text_reviews_count      int64\n",
       "publication_date       object\n",
       "publisher              object\n",
       "dtype: object"
      ]
     },
     "execution_count": 8,
     "metadata": {},
     "output_type": "execute_result"
    }
   ],
   "source": [
    "df.dtypes"
   ]
  },
  {
   "cell_type": "code",
   "execution_count": 9,
   "id": "1c71a49b",
   "metadata": {},
   "outputs": [
    {
     "data": {
      "text/html": [
       "<div>\n",
       "<style scoped>\n",
       "    .dataframe tbody tr th:only-of-type {\n",
       "        vertical-align: middle;\n",
       "    }\n",
       "\n",
       "    .dataframe tbody tr th {\n",
       "        vertical-align: top;\n",
       "    }\n",
       "\n",
       "    .dataframe thead th {\n",
       "        text-align: right;\n",
       "    }\n",
       "</style>\n",
       "<table border=\"1\" class=\"dataframe\">\n",
       "  <thead>\n",
       "    <tr style=\"text-align: right;\">\n",
       "      <th></th>\n",
       "      <th>bookID</th>\n",
       "      <th>average_rating</th>\n",
       "      <th>isbn13</th>\n",
       "      <th>num_pages</th>\n",
       "      <th>ratings_count</th>\n",
       "      <th>text_reviews_count</th>\n",
       "    </tr>\n",
       "  </thead>\n",
       "  <tbody>\n",
       "    <tr>\n",
       "      <th>count</th>\n",
       "      <td>11123.000000</td>\n",
       "      <td>11123.000000</td>\n",
       "      <td>1.112300e+04</td>\n",
       "      <td>11123.000000</td>\n",
       "      <td>1.112300e+04</td>\n",
       "      <td>11123.000000</td>\n",
       "    </tr>\n",
       "    <tr>\n",
       "      <th>mean</th>\n",
       "      <td>21310.856963</td>\n",
       "      <td>3.934075</td>\n",
       "      <td>9.759880e+12</td>\n",
       "      <td>336.405556</td>\n",
       "      <td>1.794285e+04</td>\n",
       "      <td>542.048099</td>\n",
       "    </tr>\n",
       "    <tr>\n",
       "      <th>std</th>\n",
       "      <td>13094.727252</td>\n",
       "      <td>0.350485</td>\n",
       "      <td>4.429758e+11</td>\n",
       "      <td>241.152626</td>\n",
       "      <td>1.124992e+05</td>\n",
       "      <td>2576.619589</td>\n",
       "    </tr>\n",
       "    <tr>\n",
       "      <th>min</th>\n",
       "      <td>1.000000</td>\n",
       "      <td>0.000000</td>\n",
       "      <td>8.987060e+09</td>\n",
       "      <td>0.000000</td>\n",
       "      <td>0.000000e+00</td>\n",
       "      <td>0.000000</td>\n",
       "    </tr>\n",
       "    <tr>\n",
       "      <th>25%</th>\n",
       "      <td>10277.500000</td>\n",
       "      <td>3.770000</td>\n",
       "      <td>9.780345e+12</td>\n",
       "      <td>192.000000</td>\n",
       "      <td>1.040000e+02</td>\n",
       "      <td>9.000000</td>\n",
       "    </tr>\n",
       "    <tr>\n",
       "      <th>50%</th>\n",
       "      <td>20287.000000</td>\n",
       "      <td>3.960000</td>\n",
       "      <td>9.780582e+12</td>\n",
       "      <td>299.000000</td>\n",
       "      <td>7.450000e+02</td>\n",
       "      <td>47.000000</td>\n",
       "    </tr>\n",
       "    <tr>\n",
       "      <th>75%</th>\n",
       "      <td>32104.500000</td>\n",
       "      <td>4.140000</td>\n",
       "      <td>9.780872e+12</td>\n",
       "      <td>416.000000</td>\n",
       "      <td>5.000500e+03</td>\n",
       "      <td>238.000000</td>\n",
       "    </tr>\n",
       "    <tr>\n",
       "      <th>max</th>\n",
       "      <td>45641.000000</td>\n",
       "      <td>5.000000</td>\n",
       "      <td>9.790008e+12</td>\n",
       "      <td>6576.000000</td>\n",
       "      <td>4.597666e+06</td>\n",
       "      <td>94265.000000</td>\n",
       "    </tr>\n",
       "  </tbody>\n",
       "</table>\n",
       "</div>"
      ],
      "text/plain": [
       "             bookID  average_rating        isbn13     num_pages  \\\n",
       "count  11123.000000    11123.000000  1.112300e+04  11123.000000   \n",
       "mean   21310.856963        3.934075  9.759880e+12    336.405556   \n",
       "std    13094.727252        0.350485  4.429758e+11    241.152626   \n",
       "min        1.000000        0.000000  8.987060e+09      0.000000   \n",
       "25%    10277.500000        3.770000  9.780345e+12    192.000000   \n",
       "50%    20287.000000        3.960000  9.780582e+12    299.000000   \n",
       "75%    32104.500000        4.140000  9.780872e+12    416.000000   \n",
       "max    45641.000000        5.000000  9.790008e+12   6576.000000   \n",
       "\n",
       "       ratings_count  text_reviews_count  \n",
       "count   1.112300e+04        11123.000000  \n",
       "mean    1.794285e+04          542.048099  \n",
       "std     1.124992e+05         2576.619589  \n",
       "min     0.000000e+00            0.000000  \n",
       "25%     1.040000e+02            9.000000  \n",
       "50%     7.450000e+02           47.000000  \n",
       "75%     5.000500e+03          238.000000  \n",
       "max     4.597666e+06        94265.000000  "
      ]
     },
     "execution_count": 9,
     "metadata": {},
     "output_type": "execute_result"
    }
   ],
   "source": [
    "df.describe()"
   ]
  },
  {
   "cell_type": "code",
   "execution_count": 10,
   "id": "d82cb543",
   "metadata": {},
   "outputs": [
    {
     "data": {
      "text/html": [
       "<div>\n",
       "<style scoped>\n",
       "    .dataframe tbody tr th:only-of-type {\n",
       "        vertical-align: middle;\n",
       "    }\n",
       "\n",
       "    .dataframe tbody tr th {\n",
       "        vertical-align: top;\n",
       "    }\n",
       "\n",
       "    .dataframe thead th {\n",
       "        text-align: right;\n",
       "    }\n",
       "</style>\n",
       "<table border=\"1\" class=\"dataframe\">\n",
       "  <thead>\n",
       "    <tr style=\"text-align: right;\">\n",
       "      <th></th>\n",
       "      <th>title</th>\n",
       "      <th>authors</th>\n",
       "      <th>isbn</th>\n",
       "      <th>language_code</th>\n",
       "      <th>publication_date</th>\n",
       "      <th>publisher</th>\n",
       "    </tr>\n",
       "  </thead>\n",
       "  <tbody>\n",
       "    <tr>\n",
       "      <th>count</th>\n",
       "      <td>11123</td>\n",
       "      <td>11123</td>\n",
       "      <td>11123</td>\n",
       "      <td>11123</td>\n",
       "      <td>11123</td>\n",
       "      <td>11123</td>\n",
       "    </tr>\n",
       "    <tr>\n",
       "      <th>unique</th>\n",
       "      <td>10348</td>\n",
       "      <td>6639</td>\n",
       "      <td>11123</td>\n",
       "      <td>27</td>\n",
       "      <td>3679</td>\n",
       "      <td>2290</td>\n",
       "    </tr>\n",
       "    <tr>\n",
       "      <th>top</th>\n",
       "      <td>The Brothers Karamazov</td>\n",
       "      <td>Stephen King</td>\n",
       "      <td>0060529571</td>\n",
       "      <td>eng</td>\n",
       "      <td>10/1/2005</td>\n",
       "      <td>Vintage</td>\n",
       "    </tr>\n",
       "    <tr>\n",
       "      <th>freq</th>\n",
       "      <td>9</td>\n",
       "      <td>40</td>\n",
       "      <td>1</td>\n",
       "      <td>8908</td>\n",
       "      <td>56</td>\n",
       "      <td>318</td>\n",
       "    </tr>\n",
       "  </tbody>\n",
       "</table>\n",
       "</div>"
      ],
      "text/plain": [
       "                         title       authors        isbn language_code  \\\n",
       "count                    11123         11123       11123         11123   \n",
       "unique                   10348          6639       11123            27   \n",
       "top     The Brothers Karamazov  Stephen King  0060529571           eng   \n",
       "freq                         9            40           1          8908   \n",
       "\n",
       "       publication_date publisher  \n",
       "count             11123     11123  \n",
       "unique             3679      2290  \n",
       "top           10/1/2005   Vintage  \n",
       "freq                 56       318  "
      ]
     },
     "execution_count": 10,
     "metadata": {},
     "output_type": "execute_result"
    }
   ],
   "source": [
    "df.describe(include = 'object')"
   ]
  },
  {
   "cell_type": "code",
   "execution_count": 11,
   "id": "50336c1f",
   "metadata": {},
   "outputs": [
    {
     "data": {
      "text/plain": [
       "bookID                0\n",
       "title                 0\n",
       "authors               0\n",
       "average_rating        0\n",
       "isbn                  0\n",
       "isbn13                0\n",
       "language_code         0\n",
       "num_pages             0\n",
       "ratings_count         0\n",
       "text_reviews_count    0\n",
       "publication_date      0\n",
       "publisher             0\n",
       "dtype: int64"
      ]
     },
     "execution_count": 11,
     "metadata": {},
     "output_type": "execute_result"
    }
   ],
   "source": [
    "df.isnull().sum()"
   ]
  },
  {
   "cell_type": "code",
   "execution_count": 12,
   "id": "49189eff",
   "metadata": {},
   "outputs": [
    {
     "data": {
      "text/plain": [
       "False"
      ]
     },
     "execution_count": 12,
     "metadata": {},
     "output_type": "execute_result"
    }
   ],
   "source": [
    "df.duplicated().any()"
   ]
  },
  {
   "cell_type": "code",
   "execution_count": 13,
   "id": "e0aa9af8",
   "metadata": {},
   "outputs": [
    {
     "name": "stdout",
     "output_type": "stream",
     "text": [
      "<class 'pandas.core.frame.DataFrame'>\n",
      "RangeIndex: 11123 entries, 0 to 11122\n",
      "Data columns (total 12 columns):\n",
      " #   Column              Non-Null Count  Dtype  \n",
      "---  ------              --------------  -----  \n",
      " 0   bookID              11123 non-null  int64  \n",
      " 1   title               11123 non-null  object \n",
      " 2   authors             11123 non-null  object \n",
      " 3   average_rating      11123 non-null  float64\n",
      " 4   isbn                11123 non-null  object \n",
      " 5   isbn13              11123 non-null  int64  \n",
      " 6   language_code       11123 non-null  object \n",
      " 7   num_pages           11123 non-null  int64  \n",
      " 8   ratings_count       11123 non-null  int64  \n",
      " 9   text_reviews_count  11123 non-null  int64  \n",
      " 10  publication_date    11123 non-null  object \n",
      " 11  publisher           11123 non-null  object \n",
      "dtypes: float64(1), int64(5), object(6)\n",
      "memory usage: 1.0+ MB\n"
     ]
    }
   ],
   "source": [
    "df.info()"
   ]
  },
  {
   "cell_type": "markdown",
   "id": "1ad2658f",
   "metadata": {},
   "source": [
    "# Feature Engineering"
   ]
  },
  {
   "cell_type": "markdown",
   "id": "8297d770",
   "metadata": {},
   "source": [
    "- Extract Important Features\n",
    "- Reducing the size of Features\n",
    "- Creating new features from the existring ones"
   ]
  },
  {
   "cell_type": "code",
   "execution_count": 14,
   "id": "60b161ea",
   "metadata": {},
   "outputs": [
    {
     "data": {
      "text/plain": [
       "Index(['bookID', 'title', 'authors', 'average_rating', 'isbn', 'isbn13',\n",
       "       'language_code', 'num_pages', 'ratings_count', 'text_reviews_count',\n",
       "       'publication_date', 'publisher'],\n",
       "      dtype='object')"
      ]
     },
     "execution_count": 14,
     "metadata": {},
     "output_type": "execute_result"
    }
   ],
   "source": [
    "df.columns"
   ]
  },
  {
   "cell_type": "code",
   "execution_count": 15,
   "id": "a264cafb",
   "metadata": {},
   "outputs": [
    {
     "data": {
      "text/plain": [
       "11123"
      ]
     },
     "execution_count": 15,
     "metadata": {},
     "output_type": "execute_result"
    }
   ],
   "source": [
    "df.isbn.nunique()"
   ]
  },
  {
   "cell_type": "code",
   "execution_count": 16,
   "id": "bfa805fa",
   "metadata": {},
   "outputs": [
    {
     "data": {
      "text/plain": [
       "11123"
      ]
     },
     "execution_count": 16,
     "metadata": {},
     "output_type": "execute_result"
    }
   ],
   "source": [
    "df.isbn13.nunique()"
   ]
  },
  {
   "cell_type": "code",
   "execution_count": 17,
   "id": "da73e7bf",
   "metadata": {},
   "outputs": [],
   "source": [
    "df.drop(['bookID', 'isbn', 'isbn13'], axis = 1, inplace = True)"
   ]
  },
  {
   "cell_type": "code",
   "execution_count": 18,
   "id": "99d440ec",
   "metadata": {},
   "outputs": [
    {
     "data": {
      "text/plain": [
       "Index(['title', 'authors', 'average_rating', 'language_code', 'num_pages',\n",
       "       'ratings_count', 'text_reviews_count', 'publication_date', 'publisher'],\n",
       "      dtype='object')"
      ]
     },
     "execution_count": 18,
     "metadata": {},
     "output_type": "execute_result"
    }
   ],
   "source": [
    "df.columns"
   ]
  },
  {
   "cell_type": "code",
   "execution_count": 19,
   "id": "45a82a2d",
   "metadata": {},
   "outputs": [
    {
     "data": {
      "text/plain": [
       "0         9/16/2006\n",
       "1          9/1/2004\n",
       "2         11/1/2003\n",
       "3          5/1/2004\n",
       "4         9/13/2004\n",
       "            ...    \n",
       "11118    12/21/2004\n",
       "11119     12/1/1988\n",
       "11120      8/1/1993\n",
       "11121     2/27/2007\n",
       "11122     5/28/2006\n",
       "Name: publication_date, Length: 11123, dtype: object"
      ]
     },
     "execution_count": 19,
     "metadata": {},
     "output_type": "execute_result"
    }
   ],
   "source": [
    "df.publication_date"
   ]
  },
  {
   "cell_type": "code",
   "execution_count": 20,
   "id": "0f813d04",
   "metadata": {},
   "outputs": [],
   "source": [
    "df['year'] = df['publication_date'].str.split('/')\n",
    "df['year'] = df['year'].apply(lambda x: x[2])"
   ]
  },
  {
   "cell_type": "code",
   "execution_count": 21,
   "id": "8145135d",
   "metadata": {},
   "outputs": [
    {
     "data": {
      "text/html": [
       "<div>\n",
       "<style scoped>\n",
       "    .dataframe tbody tr th:only-of-type {\n",
       "        vertical-align: middle;\n",
       "    }\n",
       "\n",
       "    .dataframe tbody tr th {\n",
       "        vertical-align: top;\n",
       "    }\n",
       "\n",
       "    .dataframe thead th {\n",
       "        text-align: right;\n",
       "    }\n",
       "</style>\n",
       "<table border=\"1\" class=\"dataframe\">\n",
       "  <thead>\n",
       "    <tr style=\"text-align: right;\">\n",
       "      <th></th>\n",
       "      <th>title</th>\n",
       "      <th>authors</th>\n",
       "      <th>average_rating</th>\n",
       "      <th>language_code</th>\n",
       "      <th>num_pages</th>\n",
       "      <th>ratings_count</th>\n",
       "      <th>text_reviews_count</th>\n",
       "      <th>publication_date</th>\n",
       "      <th>publisher</th>\n",
       "      <th>year</th>\n",
       "    </tr>\n",
       "  </thead>\n",
       "  <tbody>\n",
       "    <tr>\n",
       "      <th>0</th>\n",
       "      <td>Harry Potter and the Half-Blood Prince (Harry ...</td>\n",
       "      <td>J.K. Rowling/Mary GrandPré</td>\n",
       "      <td>4.57</td>\n",
       "      <td>eng</td>\n",
       "      <td>652</td>\n",
       "      <td>2095690</td>\n",
       "      <td>27591</td>\n",
       "      <td>9/16/2006</td>\n",
       "      <td>Scholastic Inc.</td>\n",
       "      <td>2006</td>\n",
       "    </tr>\n",
       "    <tr>\n",
       "      <th>1</th>\n",
       "      <td>Harry Potter and the Order of the Phoenix (Har...</td>\n",
       "      <td>J.K. Rowling/Mary GrandPré</td>\n",
       "      <td>4.49</td>\n",
       "      <td>eng</td>\n",
       "      <td>870</td>\n",
       "      <td>2153167</td>\n",
       "      <td>29221</td>\n",
       "      <td>9/1/2004</td>\n",
       "      <td>Scholastic Inc.</td>\n",
       "      <td>2004</td>\n",
       "    </tr>\n",
       "  </tbody>\n",
       "</table>\n",
       "</div>"
      ],
      "text/plain": [
       "                                               title  \\\n",
       "0  Harry Potter and the Half-Blood Prince (Harry ...   \n",
       "1  Harry Potter and the Order of the Phoenix (Har...   \n",
       "\n",
       "                      authors  average_rating language_code  num_pages  \\\n",
       "0  J.K. Rowling/Mary GrandPré            4.57           eng        652   \n",
       "1  J.K. Rowling/Mary GrandPré            4.49           eng        870   \n",
       "\n",
       "   ratings_count  text_reviews_count publication_date        publisher  year  \n",
       "0        2095690               27591        9/16/2006  Scholastic Inc.  2006  \n",
       "1        2153167               29221         9/1/2004  Scholastic Inc.  2004  "
      ]
     },
     "execution_count": 21,
     "metadata": {},
     "output_type": "execute_result"
    }
   ],
   "source": [
    "df.head(2)"
   ]
  },
  {
   "cell_type": "code",
   "execution_count": 22,
   "id": "c69cb488",
   "metadata": {},
   "outputs": [
    {
     "data": {
      "text/plain": [
       "title                  object\n",
       "authors                object\n",
       "average_rating        float64\n",
       "language_code          object\n",
       "num_pages               int64\n",
       "ratings_count           int64\n",
       "text_reviews_count      int64\n",
       "publication_date       object\n",
       "publisher              object\n",
       "year                   object\n",
       "dtype: object"
      ]
     },
     "execution_count": 22,
     "metadata": {},
     "output_type": "execute_result"
    }
   ],
   "source": [
    "df.dtypes"
   ]
  },
  {
   "cell_type": "code",
   "execution_count": 23,
   "id": "6f858f57",
   "metadata": {},
   "outputs": [],
   "source": [
    "df['year'] = df['year'].astype('int')"
   ]
  },
  {
   "cell_type": "code",
   "execution_count": 24,
   "id": "2629cc28",
   "metadata": {},
   "outputs": [
    {
     "data": {
      "text/plain": [
       "title                  object\n",
       "authors                object\n",
       "average_rating        float64\n",
       "language_code          object\n",
       "num_pages               int64\n",
       "ratings_count           int64\n",
       "text_reviews_count      int64\n",
       "publication_date       object\n",
       "publisher              object\n",
       "year                    int32\n",
       "dtype: object"
      ]
     },
     "execution_count": 24,
     "metadata": {},
     "output_type": "execute_result"
    }
   ],
   "source": [
    "df.dtypes"
   ]
  },
  {
   "cell_type": "code",
   "execution_count": 25,
   "id": "c550ec37",
   "metadata": {},
   "outputs": [
    {
     "data": {
      "text/plain": [
       "Index(['title', 'authors', 'average_rating', 'language_code', 'num_pages',\n",
       "       'ratings_count', 'text_reviews_count', 'publication_date', 'publisher',\n",
       "       'year'],\n",
       "      dtype='object')"
      ]
     },
     "execution_count": 25,
     "metadata": {},
     "output_type": "execute_result"
    }
   ],
   "source": [
    "df.columns"
   ]
  },
  {
   "cell_type": "code",
   "execution_count": 26,
   "id": "185a1fa2",
   "metadata": {},
   "outputs": [
    {
     "data": {
      "text/plain": [
       "1900"
      ]
     },
     "execution_count": 26,
     "metadata": {},
     "output_type": "execute_result"
    }
   ],
   "source": [
    "df['year'].min()"
   ]
  },
  {
   "cell_type": "code",
   "execution_count": 27,
   "id": "d7e5caa8",
   "metadata": {},
   "outputs": [
    {
     "data": {
      "text/plain": [
       "2020"
      ]
     },
     "execution_count": 27,
     "metadata": {},
     "output_type": "execute_result"
    }
   ],
   "source": [
    "df['year'].max()"
   ]
  },
  {
   "cell_type": "code",
   "execution_count": 28,
   "id": "d6062a03",
   "metadata": {},
   "outputs": [
    {
     "data": {
      "text/plain": [
       "Index(['title', 'authors', 'average_rating', 'language_code', 'num_pages',\n",
       "       'ratings_count', 'text_reviews_count', 'publication_date', 'publisher',\n",
       "       'year'],\n",
       "      dtype='object')"
      ]
     },
     "execution_count": 28,
     "metadata": {},
     "output_type": "execute_result"
    }
   ],
   "source": [
    "df.columns"
   ]
  },
  {
   "cell_type": "markdown",
   "id": "e0cc4c1e",
   "metadata": {},
   "source": [
    "# Exploratory Data Analysis"
   ]
  },
  {
   "cell_type": "code",
   "execution_count": 29,
   "id": "153f37e0",
   "metadata": {},
   "outputs": [
    {
     "data": {
      "text/html": [
       "<div>\n",
       "<style scoped>\n",
       "    .dataframe tbody tr th:only-of-type {\n",
       "        vertical-align: middle;\n",
       "    }\n",
       "\n",
       "    .dataframe tbody tr th {\n",
       "        vertical-align: top;\n",
       "    }\n",
       "\n",
       "    .dataframe thead th {\n",
       "        text-align: right;\n",
       "    }\n",
       "</style>\n",
       "<table border=\"1\" class=\"dataframe\">\n",
       "  <thead>\n",
       "    <tr style=\"text-align: right;\">\n",
       "      <th></th>\n",
       "      <th>title</th>\n",
       "      <th>authors</th>\n",
       "      <th>average_rating</th>\n",
       "      <th>language_code</th>\n",
       "      <th>publisher</th>\n",
       "    </tr>\n",
       "  </thead>\n",
       "  <tbody>\n",
       "    <tr>\n",
       "      <th>9664</th>\n",
       "      <td>A Quick Bite (Argeneau #1)</td>\n",
       "      <td>Lynsay Sands</td>\n",
       "      <td>3.91</td>\n",
       "      <td>eng</td>\n",
       "      <td>Avon</td>\n",
       "    </tr>\n",
       "  </tbody>\n",
       "</table>\n",
       "</div>"
      ],
      "text/plain": [
       "                           title       authors  average_rating language_code  \\\n",
       "9664  A Quick Bite (Argeneau #1)  Lynsay Sands            3.91           eng   \n",
       "\n",
       "     publisher  \n",
       "9664      Avon  "
      ]
     },
     "execution_count": 29,
     "metadata": {},
     "output_type": "execute_result"
    }
   ],
   "source": [
    "df[df['year'] == 2020][['title', 'authors','average_rating','language_code','publisher' ]]"
   ]
  },
  {
   "cell_type": "code",
   "execution_count": 30,
   "id": "89682359",
   "metadata": {},
   "outputs": [
    {
     "data": {
      "text/plain": [
       "year\n",
       "2006    1700\n",
       "2005    1260\n",
       "2004    1069\n",
       "2003     931\n",
       "2002     798\n",
       "2001     656\n",
       "2000     534\n",
       "2007     518\n",
       "1999     450\n",
       "1998     396\n",
       "1997     290\n",
       "1996     250\n",
       "1995     249\n",
       "1994     220\n",
       "1992     183\n",
       "1993     165\n",
       "1991     151\n",
       "1989     118\n",
       "1990     117\n",
       "1987      88\n",
       "Name: title, dtype: int64"
      ]
     },
     "execution_count": 30,
     "metadata": {},
     "output_type": "execute_result"
    }
   ],
   "source": [
    "df.groupby(['year'])['title'].agg('count').sort_values(ascending = False).head(20)"
   ]
  },
  {
   "cell_type": "code",
   "execution_count": 31,
   "id": "fc70e488",
   "metadata": {},
   "outputs": [
    {
     "data": {
      "image/png": "[encoded data removed]",
      "text/plain": [
       "<Figure size 1440x720 with 1 Axes>"
      ]
     },
     "metadata": {
      "needs_background": "light"
     },
     "output_type": "display_data"
    }
   ],
   "source": [
    "plt.figure(figsize = (20, 10))\n",
    "sns.countplot(x = 'authors', data = df,\n",
    "             order = df['authors'].value_counts().iloc[:10].index)\n",
    "plt.title(\"Top 10 Authors with maximum book publish\")\n",
    "plt.xticks(fontsize = 12)\n",
    "plt.show()"
   ]
  },
  {
   "cell_type": "code",
   "execution_count": 32,
   "id": "c81b3b1e",
   "metadata": {},
   "outputs": [
    {
     "data": {
      "text/plain": [
       "Index(['title', 'authors', 'average_rating', 'language_code', 'num_pages',\n",
       "       'ratings_count', 'text_reviews_count', 'publication_date', 'publisher',\n",
       "       'year'],\n",
       "      dtype='object')"
      ]
     },
     "execution_count": 32,
     "metadata": {},
     "output_type": "execute_result"
    }
   ],
   "source": [
    "df.columns"
   ]
  },
  {
   "cell_type": "code",
   "execution_count": 33,
   "id": "2005c342",
   "metadata": {},
   "outputs": [
    {
     "data": {
      "text/plain": [
       "eng      8908\n",
       "en-US    1408\n",
       "spa       218\n",
       "en-GB     214\n",
       "fre       144\n",
       "ger        99\n",
       "jpn        46\n",
       "mul        19\n",
       "zho        14\n",
       "grc        11\n",
       "por        10\n",
       "en-CA       7\n",
       "ita         5\n",
       "enm         3\n",
       "lat         3\n",
       "rus         2\n",
       "swe         2\n",
       "tur         1\n",
       "msa         1\n",
       "nl          1\n",
       "ara         1\n",
       "glg         1\n",
       "nor         1\n",
       "wel         1\n",
       "ale         1\n",
       "srp         1\n",
       "gla         1\n",
       "Name: language_code, dtype: int64"
      ]
     },
     "execution_count": 33,
     "metadata": {},
     "output_type": "execute_result"
    }
   ],
   "source": [
    "df.language_code.value_counts()"
   ]
  },
  {
   "cell_type": "code",
   "execution_count": 34,
   "id": "274922fd",
   "metadata": {},
   "outputs": [
    {
     "data": {
      "text/html": [
       "<style  type=\"text/css\" >\n",
       "#T_ea22d_row0_col0,#T_ea22d_row14_col0{\n",
       "            background-color:  #fe9000;\n",
       "            color:  #000000;\n",
       "        }#T_ea22d_row0_col1,#T_ea22d_row1_col1,#T_ea22d_row13_col2,#T_ea22d_row14_col1,#T_ea22d_row18_col1,#T_ea22d_row19_col1{\n",
       "            background-color:  #e4ff78;\n",
       "            color:  #000000;\n",
       "        }#T_ea22d_row0_col2{\n",
       "            background-color:  #e7fd71;\n",
       "            color:  #000000;\n",
       "        }#T_ea22d_row1_col0{\n",
       "            background-color:  #ffa500;\n",
       "            color:  #000000;\n",
       "        }#T_ea22d_row1_col2,#T_ea22d_row14_col2,#T_ea22d_row16_col1{\n",
       "            background-color:  #e6fe74;\n",
       "            color:  #000000;\n",
       "        }#T_ea22d_row2_col0{\n",
       "            background-color:  #fe9800;\n",
       "            color:  #000000;\n",
       "        }#T_ea22d_row2_col1{\n",
       "            background-color:  #f8ee32;\n",
       "            color:  #000000;\n",
       "        }#T_ea22d_row2_col2{\n",
       "            background-color:  #ffbd00;\n",
       "            color:  #000000;\n",
       "        }#T_ea22d_row3_col0,#T_ea22d_row4_col0,#T_ea22d_row5_col0,#T_ea22d_row19_col0,#T_ea22d_row21_col0{\n",
       "            background-color:  #ff9b00;\n",
       "            color:  #000000;\n",
       "        }#T_ea22d_row3_col1{\n",
       "            background-color:  #f0f54e;\n",
       "            color:  #000000;\n",
       "        }#T_ea22d_row3_col2{\n",
       "            background-color:  #f5f03c;\n",
       "            color:  #000000;\n",
       "        }#T_ea22d_row4_col1{\n",
       "            background-color:  #f7ef38;\n",
       "            color:  #000000;\n",
       "        }#T_ea22d_row4_col2{\n",
       "            background-color:  #ffe81b;\n",
       "            color:  #000000;\n",
       "        }#T_ea22d_row5_col1,#T_ea22d_row5_col2,#T_ea22d_row25_col0{\n",
       "            background-color:  #fc7f00;\n",
       "            color:  #000000;\n",
       "        }#T_ea22d_row6_col0{\n",
       "            background-color:  #ff9d00;\n",
       "            color:  #000000;\n",
       "        }#T_ea22d_row6_col1,#T_ea22d_row7_col1,#T_ea22d_row12_col1{\n",
       "            background-color:  #f4f141;\n",
       "            color:  #000000;\n",
       "        }#T_ea22d_row6_col2{\n",
       "            background-color:  #f2f348;\n",
       "            color:  #000000;\n",
       "        }#T_ea22d_row7_col0,#T_ea22d_row8_col0{\n",
       "            background-color:  #fe9a00;\n",
       "            color:  #000000;\n",
       "        }#T_ea22d_row7_col2{\n",
       "            background-color:  #eff654;\n",
       "            color:  #000000;\n",
       "        }#T_ea22d_row8_col1,#T_ea22d_row15_col2{\n",
       "            background-color:  #e5fe77;\n",
       "            color:  #000000;\n",
       "        }#T_ea22d_row8_col2,#T_ea22d_row17_col2,#T_ea22d_row18_col2{\n",
       "            background-color:  #e5fe75;\n",
       "            color:  #000000;\n",
       "        }#T_ea22d_row9_col0,#T_ea22d_row26_col0{\n",
       "            background-color:  #fd8d00;\n",
       "            color:  #000000;\n",
       "        }#T_ea22d_row9_col1,#T_ea22d_row9_col2,#T_ea22d_row10_col1,#T_ea22d_row10_col2,#T_ea22d_row11_col1,#T_ea22d_row11_col2,#T_ea22d_row13_col1,#T_ea22d_row15_col1,#T_ea22d_row17_col1,#T_ea22d_row22_col0,#T_ea22d_row22_col1,#T_ea22d_row22_col2,#T_ea22d_row25_col1,#T_ea22d_row25_col2,#T_ea22d_row26_col1,#T_ea22d_row26_col2{\n",
       "            background-color:  #e4ff7a;\n",
       "            color:  #000000;\n",
       "        }#T_ea22d_row10_col0{\n",
       "            background-color:  #ffa900;\n",
       "            color:  #000000;\n",
       "        }#T_ea22d_row11_col0{\n",
       "            background-color:  #ffa100;\n",
       "            color:  #000000;\n",
       "        }#T_ea22d_row12_col0{\n",
       "            background-color:  #fe9700;\n",
       "            color:  #000000;\n",
       "        }#T_ea22d_row12_col2{\n",
       "            background-color:  #edf759;\n",
       "            color:  #000000;\n",
       "        }#T_ea22d_row13_col0{\n",
       "            background-color:  #fe9200;\n",
       "            color:  #000000;\n",
       "        }#T_ea22d_row15_col0,#T_ea22d_row16_col0{\n",
       "            background-color:  #fe9600;\n",
       "            color:  #000000;\n",
       "        }#T_ea22d_row16_col2{\n",
       "            background-color:  #e7fc6f;\n",
       "            color:  #000000;\n",
       "        }#T_ea22d_row17_col0{\n",
       "            background-color:  #fe9400;\n",
       "            color:  #000000;\n",
       "        }#T_ea22d_row18_col0{\n",
       "            background-color:  #ffa300;\n",
       "            color:  #000000;\n",
       "        }#T_ea22d_row19_col2{\n",
       "            background-color:  #e6fd72;\n",
       "            color:  #000000;\n",
       "        }#T_ea22d_row20_col0{\n",
       "            background-color:  #fe9300;\n",
       "            color:  #000000;\n",
       "        }#T_ea22d_row20_col1{\n",
       "            background-color:  #faec2a;\n",
       "            color:  #000000;\n",
       "        }#T_ea22d_row20_col2{\n",
       "            background-color:  #f5f13f;\n",
       "            color:  #000000;\n",
       "        }#T_ea22d_row21_col1{\n",
       "            background-color:  #fbeb27;\n",
       "            color:  #000000;\n",
       "        }#T_ea22d_row21_col2{\n",
       "            background-color:  #f3f244;\n",
       "            color:  #000000;\n",
       "        }#T_ea22d_row23_col0{\n",
       "            background-color:  #ffa700;\n",
       "            color:  #000000;\n",
       "        }#T_ea22d_row23_col1{\n",
       "            background-color:  #f1f44b;\n",
       "            color:  #000000;\n",
       "        }#T_ea22d_row23_col2{\n",
       "            background-color:  #fee91d;\n",
       "            color:  #000000;\n",
       "        }#T_ea22d_row24_col0{\n",
       "            background-color:  #fd8e00;\n",
       "            color:  #000000;\n",
       "        }#T_ea22d_row24_col1{\n",
       "            background-color:  #e9fb69;\n",
       "            color:  #000000;\n",
       "        }#T_ea22d_row24_col2{\n",
       "            background-color:  #ebf962;\n",
       "            color:  #000000;\n",
       "        }</style><table id=\"T_ea22d_\" ><thead>    <tr>        <th class=\"blank level0\" ></th>        <th class=\"col_heading level0 col0\" >average_rating</th>        <th class=\"col_heading level0 col1\" >ratings_count</th>        <th class=\"col_heading level0 col2\" >text_reviews_count</th>    </tr>    <tr>        <th class=\"index_name level0\" >language_code</th>        <th class=\"blank\" ></th>        <th class=\"blank\" ></th>        <th class=\"blank\" ></th>    </tr></thead><tbody>\n",
       "                <tr>\n",
       "                        <th id=\"T_ea22d_level0_row0\" class=\"row_heading level0 row0\" >ale</th>\n",
       "                        <td id=\"T_ea22d_row0_col0\" class=\"data row0 col0\" >4.360000</td>\n",
       "                        <td id=\"T_ea22d_row0_col1\" class=\"data row0 col1\" >102.000000</td>\n",
       "                        <td id=\"T_ea22d_row0_col2\" class=\"data row0 col2\" >16.000000</td>\n",
       "            </tr>\n",
       "            <tr>\n",
       "                        <th id=\"T_ea22d_level0_row1\" class=\"row_heading level0 row1\" >ara</th>\n",
       "                        <td id=\"T_ea22d_row1_col0\" class=\"data row1 col0\" >3.550000</td>\n",
       "                        <td id=\"T_ea22d_row1_col1\" class=\"data row1 col1\" >122.000000</td>\n",
       "                        <td id=\"T_ea22d_row1_col2\" class=\"data row1 col2\" >12.000000</td>\n",
       "            </tr>\n",
       "            <tr>\n",
       "                        <th id=\"T_ea22d_level0_row2\" class=\"row_heading level0 row2\" >en-CA</th>\n",
       "                        <td id=\"T_ea22d_row2_col0\" class=\"data row2 col0\" >4.025714</td>\n",
       "                        <td id=\"T_ea22d_row2_col1\" class=\"data row2 col1\" >4086.714286</td>\n",
       "                        <td id=\"T_ea22d_row2_col2\" class=\"data row2 col2\" >324.428571</td>\n",
       "            </tr>\n",
       "            <tr>\n",
       "                        <th id=\"T_ea22d_level0_row3\" class=\"row_heading level0 row3\" >en-GB</th>\n",
       "                        <td id=\"T_ea22d_row3_col0\" class=\"data row3 col0\" >3.923411</td>\n",
       "                        <td id=\"T_ea22d_row3_col1\" class=\"data row3 col1\" >2463.691589</td>\n",
       "                        <td id=\"T_ea22d_row3_col2\" class=\"data row3 col2\" >104.060748</td>\n",
       "            </tr>\n",
       "            <tr>\n",
       "                        <th id=\"T_ea22d_level0_row4\" class=\"row_heading level0 row4\" >en-US</th>\n",
       "                        <td id=\"T_ea22d_row4_col0\" class=\"data row4 col0\" >3.914659</td>\n",
       "                        <td id=\"T_ea22d_row4_col1\" class=\"data row4 col1\" >3773.906960</td>\n",
       "                        <td id=\"T_ea22d_row4_col2\" class=\"data row4 col2\" >160.357244</td>\n",
       "            </tr>\n",
       "            <tr>\n",
       "                        <th id=\"T_ea22d_level0_row5\" class=\"row_heading level0 row5\" >eng</th>\n",
       "                        <td id=\"T_ea22d_row5_col0\" class=\"data row5 col0\" >3.934062</td>\n",
       "                        <td id=\"T_ea22d_row5_col1\" class=\"data row5 col1\" >21570.272564</td>\n",
       "                        <td id=\"T_ea22d_row5_col2\" class=\"data row5 col2\" >645.156601</td>\n",
       "            </tr>\n",
       "            <tr>\n",
       "                        <th id=\"T_ea22d_level0_row6\" class=\"row_heading level0 row6\" >enm</th>\n",
       "                        <td id=\"T_ea22d_row6_col0\" class=\"data row6 col0\" >3.873333</td>\n",
       "                        <td id=\"T_ea22d_row6_col1\" class=\"data row6 col1\" >3233.666667</td>\n",
       "                        <td id=\"T_ea22d_row6_col2\" class=\"data row6 col2\" >84.000000</td>\n",
       "            </tr>\n",
       "            <tr>\n",
       "                        <th id=\"T_ea22d_level0_row7\" class=\"row_heading level0 row7\" >fre</th>\n",
       "                        <td id=\"T_ea22d_row7_col0\" class=\"data row7 col0\" >3.971528</td>\n",
       "                        <td id=\"T_ea22d_row7_col1\" class=\"data row7 col1\" >3277.319444</td>\n",
       "                        <td id=\"T_ea22d_row7_col2\" class=\"data row7 col2\" >64.513889</td>\n",
       "            </tr>\n",
       "            <tr>\n",
       "                        <th id=\"T_ea22d_level0_row8\" class=\"row_heading level0 row8\" >ger</th>\n",
       "                        <td id=\"T_ea22d_row8_col0\" class=\"data row8 col0\" >3.950101</td>\n",
       "                        <td id=\"T_ea22d_row8_col1\" class=\"data row8 col1\" >234.727273</td>\n",
       "                        <td id=\"T_ea22d_row8_col2\" class=\"data row8 col2\" >8.232323</td>\n",
       "            </tr>\n",
       "            <tr>\n",
       "                        <th id=\"T_ea22d_level0_row9\" class=\"row_heading level0 row9\" >gla</th>\n",
       "                        <td id=\"T_ea22d_row9_col0\" class=\"data row9 col0\" >4.470000</td>\n",
       "                        <td id=\"T_ea22d_row9_col1\" class=\"data row9 col1\" >11.000000</td>\n",
       "                        <td id=\"T_ea22d_row9_col2\" class=\"data row9 col2\" >0.000000</td>\n",
       "            </tr>\n",
       "            <tr>\n",
       "                        <th id=\"T_ea22d_level0_row10\" class=\"row_heading level0 row10\" >glg</th>\n",
       "                        <td id=\"T_ea22d_row10_col0\" class=\"data row10 col0\" >3.360000</td>\n",
       "                        <td id=\"T_ea22d_row10_col1\" class=\"data row10 col1\" >36.000000</td>\n",
       "                        <td id=\"T_ea22d_row10_col2\" class=\"data row10 col2\" >2.000000</td>\n",
       "            </tr>\n",
       "            <tr>\n",
       "                        <th id=\"T_ea22d_level0_row11\" class=\"row_heading level0 row11\" >grc</th>\n",
       "                        <td id=\"T_ea22d_row11_col0\" class=\"data row11 col0\" >3.707273</td>\n",
       "                        <td id=\"T_ea22d_row11_col1\" class=\"data row11 col1\" >52.454545</td>\n",
       "                        <td id=\"T_ea22d_row11_col2\" class=\"data row11 col2\" >2.454545</td>\n",
       "            </tr>\n",
       "            <tr>\n",
       "                        <th id=\"T_ea22d_level0_row12\" class=\"row_heading level0 row12\" >ita</th>\n",
       "                        <td id=\"T_ea22d_row12_col0\" class=\"data row12 col0\" >4.078000</td>\n",
       "                        <td id=\"T_ea22d_row12_col1\" class=\"data row12 col1\" >3234.400000</td>\n",
       "                        <td id=\"T_ea22d_row12_col2\" class=\"data row12 col2\" >55.800000</td>\n",
       "            </tr>\n",
       "            <tr>\n",
       "                        <th id=\"T_ea22d_level0_row13\" class=\"row_heading level0 row13\" >jpn</th>\n",
       "                        <td id=\"T_ea22d_row13_col0\" class=\"data row13 col0\" >4.268696</td>\n",
       "                        <td id=\"T_ea22d_row13_col1\" class=\"data row13 col1\" >68.304348</td>\n",
       "                        <td id=\"T_ea22d_row13_col2\" class=\"data row13 col2\" >3.152174</td>\n",
       "            </tr>\n",
       "            <tr>\n",
       "                        <th id=\"T_ea22d_level0_row14\" class=\"row_heading level0 row14\" >lat</th>\n",
       "                        <td id=\"T_ea22d_row14_col0\" class=\"data row14 col0\" >4.353333</td>\n",
       "                        <td id=\"T_ea22d_row14_col1\" class=\"data row14 col1\" >114.666667</td>\n",
       "                        <td id=\"T_ea22d_row14_col2\" class=\"data row14 col2\" >12.333333</td>\n",
       "            </tr>\n",
       "            <tr>\n",
       "                        <th id=\"T_ea22d_level0_row15\" class=\"row_heading level0 row15\" >msa</th>\n",
       "                        <td id=\"T_ea22d_row15_col0\" class=\"data row15 col0\" >4.110000</td>\n",
       "                        <td id=\"T_ea22d_row15_col1\" class=\"data row15 col1\" >28.000000</td>\n",
       "                        <td id=\"T_ea22d_row15_col2\" class=\"data row15 col2\" >6.000000</td>\n",
       "            </tr>\n",
       "            <tr>\n",
       "                        <th id=\"T_ea22d_level0_row16\" class=\"row_heading level0 row16\" >mul</th>\n",
       "                        <td id=\"T_ea22d_row16_col0\" class=\"data row16 col0\" >4.126316</td>\n",
       "                        <td id=\"T_ea22d_row16_col1\" class=\"data row16 col1\" >386.631579</td>\n",
       "                        <td id=\"T_ea22d_row16_col2\" class=\"data row16 col2\" >19.263158</td>\n",
       "            </tr>\n",
       "            <tr>\n",
       "                        <th id=\"T_ea22d_level0_row17\" class=\"row_heading level0 row17\" >nl</th>\n",
       "                        <td id=\"T_ea22d_row17_col0\" class=\"data row17 col0\" >4.180000</td>\n",
       "                        <td id=\"T_ea22d_row17_col1\" class=\"data row17 col1\" >67.000000</td>\n",
       "                        <td id=\"T_ea22d_row17_col2\" class=\"data row17 col2\" >9.000000</td>\n",
       "            </tr>\n",
       "            <tr>\n",
       "                        <th id=\"T_ea22d_level0_row18\" class=\"row_heading level0 row18\" >nor</th>\n",
       "                        <td id=\"T_ea22d_row18_col0\" class=\"data row18 col0\" >3.600000</td>\n",
       "                        <td id=\"T_ea22d_row18_col1\" class=\"data row18 col1\" >86.000000</td>\n",
       "                        <td id=\"T_ea22d_row18_col2\" class=\"data row18 col2\" >8.000000</td>\n",
       "            </tr>\n",
       "            <tr>\n",
       "                        <th id=\"T_ea22d_level0_row19\" class=\"row_heading level0 row19\" >por</th>\n",
       "                        <td id=\"T_ea22d_row19_col0\" class=\"data row19 col0\" >3.945000</td>\n",
       "                        <td id=\"T_ea22d_row19_col1\" class=\"data row19 col1\" >165.100000</td>\n",
       "                        <td id=\"T_ea22d_row19_col2\" class=\"data row19 col2\" >13.500000</td>\n",
       "            </tr>\n",
       "            <tr>\n",
       "                        <th id=\"T_ea22d_level0_row20\" class=\"row_heading level0 row20\" >rus</th>\n",
       "                        <td id=\"T_ea22d_row20_col0\" class=\"data row20 col0\" >4.255000</td>\n",
       "                        <td id=\"T_ea22d_row20_col1\" class=\"data row20 col1\" >4477.000000</td>\n",
       "                        <td id=\"T_ea22d_row20_col2\" class=\"data row20 col2\" >98.500000</td>\n",
       "            </tr>\n",
       "            <tr>\n",
       "                        <th id=\"T_ea22d_level0_row21\" class=\"row_heading level0 row21\" >spa</th>\n",
       "                        <td id=\"T_ea22d_row21_col0\" class=\"data row21 col0\" >3.929312</td>\n",
       "                        <td id=\"T_ea22d_row21_col1\" class=\"data row21 col1\" >4636.114679</td>\n",
       "                        <td id=\"T_ea22d_row21_col2\" class=\"data row21 col2\" >91.123853</td>\n",
       "            </tr>\n",
       "            <tr>\n",
       "                        <th id=\"T_ea22d_level0_row22\" class=\"row_heading level0 row22\" >srp</th>\n",
       "                        <td id=\"T_ea22d_row22_col0\" class=\"data row22 col0\" >0.000000</td>\n",
       "                        <td id=\"T_ea22d_row22_col1\" class=\"data row22 col1\" >0.000000</td>\n",
       "                        <td id=\"T_ea22d_row22_col2\" class=\"data row22 col2\" >0.000000</td>\n",
       "            </tr>\n",
       "            <tr>\n",
       "                        <th id=\"T_ea22d_level0_row23\" class=\"row_heading level0 row23\" >swe</th>\n",
       "                        <td id=\"T_ea22d_row23_col0\" class=\"data row23 col0\" >3.455000</td>\n",
       "                        <td id=\"T_ea22d_row23_col1\" class=\"data row23 col1\" >2671.000000</td>\n",
       "                        <td id=\"T_ea22d_row23_col2\" class=\"data row23 col2\" >157.000000</td>\n",
       "            </tr>\n",
       "            <tr>\n",
       "                        <th id=\"T_ea22d_level0_row24\" class=\"row_heading level0 row24\" >tur</th>\n",
       "                        <td id=\"T_ea22d_row24_col0\" class=\"data row24 col0\" >4.420000</td>\n",
       "                        <td id=\"T_ea22d_row24_col1\" class=\"data row24 col1\" >1000.000000</td>\n",
       "                        <td id=\"T_ea22d_row24_col2\" class=\"data row24 col2\" >41.000000</td>\n",
       "            </tr>\n",
       "            <tr>\n",
       "                        <th id=\"T_ea22d_level0_row25\" class=\"row_heading level0 row25\" >wel</th>\n",
       "                        <td id=\"T_ea22d_row25_col0\" class=\"data row25 col0\" >5.000000</td>\n",
       "                        <td id=\"T_ea22d_row25_col1\" class=\"data row25 col1\" >1.000000</td>\n",
       "                        <td id=\"T_ea22d_row25_col2\" class=\"data row25 col2\" >0.000000</td>\n",
       "            </tr>\n",
       "            <tr>\n",
       "                        <th id=\"T_ea22d_level0_row26\" class=\"row_heading level0 row26\" >zho</th>\n",
       "                        <td id=\"T_ea22d_row26_col0\" class=\"data row26 col0\" >4.456429</td>\n",
       "                        <td id=\"T_ea22d_row26_col1\" class=\"data row26 col1\" >20.428571</td>\n",
       "                        <td id=\"T_ea22d_row26_col2\" class=\"data row26 col2\" >0.500000</td>\n",
       "            </tr>\n",
       "    </tbody></table>"
      ],
      "text/plain": [
       "<pandas.io.formats.style.Styler at 0x1c686f1c580>"
      ]
     },
     "execution_count": 34,
     "metadata": {},
     "output_type": "execute_result"
    }
   ],
   "source": [
    "df.groupby(['language_code'])[['average_rating', \n",
    "                               'ratings_count', \n",
    "                               'text_reviews_count']].agg('mean').style.background_gradient(cmap = 'Wistia')\n"
   ]
  },
  {
   "cell_type": "code",
   "execution_count": 35,
   "id": "35bc5ca2",
   "metadata": {},
   "outputs": [
    {
     "data": {
      "text/plain": [
       "The Brothers Karamazov        9\n",
       "The Iliad                     9\n",
       "Anna Karenina                 8\n",
       "Gulliver's Travels            8\n",
       "The Odyssey                   8\n",
       "'Salem's Lot                  8\n",
       "A Midsummer Night's Dream     7\n",
       "The Picture of Dorian Gray    7\n",
       "Jane Eyre                     6\n",
       "The Secret Garden             6\n",
       "Macbeth                       6\n",
       "The Scarlet Letter            6\n",
       "The Great Gatsby              6\n",
       "Sense and Sensibility         6\n",
       "The Histories                 6\n",
       "Romeo and Juliet              6\n",
       "Collected Stories             6\n",
       "Robinson Crusoe               6\n",
       "Treasure Island               6\n",
       "The Idiot                     5\n",
       "Name: title, dtype: int64"
      ]
     },
     "execution_count": 35,
     "metadata": {},
     "output_type": "execute_result"
    }
   ],
   "source": [
    "book = df['title'].value_counts()[:20]\n",
    "book"
   ]
  },
  {
   "cell_type": "code",
   "execution_count": 36,
   "id": "4a146c6a",
   "metadata": {},
   "outputs": [
    {
     "data": {
      "image/png": "[encoded data removed]",
      "text/plain": [
       "<Figure size 1440x432 with 1 Axes>"
      ]
     },
     "metadata": {
      "needs_background": "light"
     },
     "output_type": "display_data"
    }
   ],
   "source": [
    "# to find most occuring book in our data\n",
    "plt.figure(figsize = (20, 6))\n",
    "book = df['title'].value_counts()[:20]\n",
    "sns.barplot(x = book.index, y = book,\n",
    "           palette = 'winter_r')\n",
    "plt.title(\"Most occuring Books\")\n",
    "plt.xlabel(\"Number of Occurance\")\n",
    "plt.ylabel(\"Books\")\n",
    "plt.xticks(rotation = 75, fontsize = 13)\n",
    "plt.show()"
   ]
  },
  {
   "cell_type": "code",
   "execution_count": 37,
   "id": "9ae4e41b",
   "metadata": {},
   "outputs": [
    {
     "name": "stderr",
     "output_type": "stream",
     "text": [
      "C:\\Application\\anaconda\\lib\\site-packages\\seaborn\\distributions.py:2551: FutureWarning: `distplot` is a deprecated function and will be removed in a future version. Please adapt your code to use either `displot` (a figure-level function with similar flexibility) or `histplot` (an axes-level function for histograms).\n",
      "  warnings.warn(msg, FutureWarning)\n"
     ]
    },
    {
     "data": {
      "image/png": "[encoded data removed]",
      "text/plain": [
       "<Figure size 432x288 with 1 Axes>"
      ]
     },
     "metadata": {
      "needs_background": "light"
     },
     "output_type": "display_data"
    }
   ],
   "source": [
    "sns.distplot(df['average_rating'])\n",
    "plt.show()"
   ]
  },
  {
   "cell_type": "code",
   "execution_count": 38,
   "id": "460ed602",
   "metadata": {},
   "outputs": [
    {
     "data": {
      "text/html": [
       "<div>\n",
       "<style scoped>\n",
       "    .dataframe tbody tr th:only-of-type {\n",
       "        vertical-align: middle;\n",
       "    }\n",
       "\n",
       "    .dataframe tbody tr th {\n",
       "        vertical-align: top;\n",
       "    }\n",
       "\n",
       "    .dataframe thead th {\n",
       "        text-align: right;\n",
       "    }\n",
       "</style>\n",
       "<table border=\"1\" class=\"dataframe\">\n",
       "  <thead>\n",
       "    <tr style=\"text-align: right;\">\n",
       "      <th></th>\n",
       "      <th>title</th>\n",
       "      <th>authors</th>\n",
       "      <th>language_code</th>\n",
       "      <th>publisher</th>\n",
       "    </tr>\n",
       "  </thead>\n",
       "  <tbody>\n",
       "    <tr>\n",
       "      <th>624</th>\n",
       "      <td>Comoediae 1: Acharenses/Equites/Nubes/Vespae/P...</td>\n",
       "      <td>Aristophanes/F.W. Hall/W.M. Geldart</td>\n",
       "      <td>grc</td>\n",
       "      <td>Oxford University Press  USA</td>\n",
       "    </tr>\n",
       "    <tr>\n",
       "      <th>786</th>\n",
       "      <td>Willem de Kooning: Late Paintings</td>\n",
       "      <td>Julie Sylvester/David Sylvester</td>\n",
       "      <td>eng</td>\n",
       "      <td>Schirmer Mosel</td>\n",
       "    </tr>\n",
       "    <tr>\n",
       "      <th>855</th>\n",
       "      <td>Literature Circle Guide: Bridge to Terabithia:...</td>\n",
       "      <td>Tara MacCarthy</td>\n",
       "      <td>eng</td>\n",
       "      <td>Teaching Resources</td>\n",
       "    </tr>\n",
       "    <tr>\n",
       "      <th>1243</th>\n",
       "      <td>Middlesex Borough (Images of America: New Jersey)</td>\n",
       "      <td>Middlesex Borough Heritage Committee</td>\n",
       "      <td>eng</td>\n",
       "      <td>Arcadia Publishing</td>\n",
       "    </tr>\n",
       "    <tr>\n",
       "      <th>4125</th>\n",
       "      <td>Zone of the Enders: The 2nd Runner Official St...</td>\n",
       "      <td>Tim Bogenn</td>\n",
       "      <td>eng</td>\n",
       "      <td>BradyGames</td>\n",
       "    </tr>\n",
       "    <tr>\n",
       "      <th>4788</th>\n",
       "      <td>The Diamond Color Meditation: Color Pathway to...</td>\n",
       "      <td>John  Diamond</td>\n",
       "      <td>eng</td>\n",
       "      <td>Square One Publishers</td>\n",
       "    </tr>\n",
       "    <tr>\n",
       "      <th>4933</th>\n",
       "      <td>Bulgakov's the Master and Margarita: The Text ...</td>\n",
       "      <td>Elena N. Mahlow</td>\n",
       "      <td>eng</td>\n",
       "      <td>Vantage Press</td>\n",
       "    </tr>\n",
       "    <tr>\n",
       "      <th>5023</th>\n",
       "      <td>The Complete Theory Fun Factory: Music Theory ...</td>\n",
       "      <td>Ian        Martin/Katie Elliott</td>\n",
       "      <td>eng</td>\n",
       "      <td>Boosey &amp; Hawkes Inc</td>\n",
       "    </tr>\n",
       "    <tr>\n",
       "      <th>5474</th>\n",
       "      <td>The Goon Show  Volume 4: My Knees Have Fallen ...</td>\n",
       "      <td>NOT A BOOK</td>\n",
       "      <td>eng</td>\n",
       "      <td>BBC Physical Audio</td>\n",
       "    </tr>\n",
       "    <tr>\n",
       "      <th>5476</th>\n",
       "      <td>The Goon Show  Volume 11: He's Fallen in the W...</td>\n",
       "      <td>NOT A BOOK</td>\n",
       "      <td>eng</td>\n",
       "      <td>BBC Physical Audio</td>\n",
       "    </tr>\n",
       "    <tr>\n",
       "      <th>5647</th>\n",
       "      <td>Winchester Shotguns</td>\n",
       "      <td>Dennis Adler/R.L. Wilson</td>\n",
       "      <td>eng</td>\n",
       "      <td>Chartwell Books</td>\n",
       "    </tr>\n",
       "    <tr>\n",
       "      <th>5648</th>\n",
       "      <td>Colossians and Philemon: A Critical and Exeget...</td>\n",
       "      <td>R. McL. Wilson</td>\n",
       "      <td>eng</td>\n",
       "      <td>T&amp;T Clark Int'l</td>\n",
       "    </tr>\n",
       "    <tr>\n",
       "      <th>6184</th>\n",
       "      <td>Taxation of Mineral Rents</td>\n",
       "      <td>Ross Garnaut</td>\n",
       "      <td>eng</td>\n",
       "      <td>Oxford University Press  USA</td>\n",
       "    </tr>\n",
       "    <tr>\n",
       "      <th>6247</th>\n",
       "      <td>The New Big Book of America</td>\n",
       "      <td>Todd Davis/Marc Frey</td>\n",
       "      <td>eng</td>\n",
       "      <td>Courage Books</td>\n",
       "    </tr>\n",
       "    <tr>\n",
       "      <th>6775</th>\n",
       "      <td>Delwau Duon: Peintiadau Nicholas Evans = Symph...</td>\n",
       "      <td>Nicholas    Evans/Rhonda  Evans</td>\n",
       "      <td>wel</td>\n",
       "      <td>Y Lolfa</td>\n",
       "    </tr>\n",
       "    <tr>\n",
       "      <th>8544</th>\n",
       "      <td>Fanning the Flame: Bible  Cross  and Mission</td>\n",
       "      <td>Chris    Green/Chris Wright/Paul Douglas Gardner</td>\n",
       "      <td>eng</td>\n",
       "      <td>Zondervan</td>\n",
       "    </tr>\n",
       "    <tr>\n",
       "      <th>9282</th>\n",
       "      <td>Oliver Wendell Holmes in Paris: Medicine  Theo...</td>\n",
       "      <td>William C. Dowling</td>\n",
       "      <td>eng</td>\n",
       "      <td>University Press of New England</td>\n",
       "    </tr>\n",
       "    <tr>\n",
       "      <th>9324</th>\n",
       "      <td>Tyrannosaurus Wrecks (Stanley  #1)</td>\n",
       "      <td>Laura Driscoll/Alisa Klayman-Grodsky/Eric     ...</td>\n",
       "      <td>eng</td>\n",
       "      <td>Disney Press</td>\n",
       "    </tr>\n",
       "    <tr>\n",
       "      <th>9720</th>\n",
       "      <td>The Irish Anatomist: A Study of Flann O'Brien</td>\n",
       "      <td>Keith Donohue</td>\n",
       "      <td>eng</td>\n",
       "      <td>Academica Press</td>\n",
       "    </tr>\n",
       "    <tr>\n",
       "      <th>9847</th>\n",
       "      <td>The American Campaign: U.S. Presidential Campa...</td>\n",
       "      <td>James E. Campbell</td>\n",
       "      <td>eng</td>\n",
       "      <td>Texas A&amp;M University Press</td>\n",
       "    </tr>\n",
       "    <tr>\n",
       "      <th>9893</th>\n",
       "      <td>His Princess Devotional: A Royal Encounter Wit...</td>\n",
       "      <td>Sheri Rose Shepherd</td>\n",
       "      <td>eng</td>\n",
       "      <td>Multnomah</td>\n",
       "    </tr>\n",
       "    <tr>\n",
       "      <th>10262</th>\n",
       "      <td>Bill Gates: Computer Legend (Famous Lives)</td>\n",
       "      <td>Sara Barton-Wood</td>\n",
       "      <td>eng</td>\n",
       "      <td>Raintree</td>\n",
       "    </tr>\n",
       "  </tbody>\n",
       "</table>\n",
       "</div>"
      ],
      "text/plain": [
       "                                                   title  \\\n",
       "624    Comoediae 1: Acharenses/Equites/Nubes/Vespae/P...   \n",
       "786                    Willem de Kooning: Late Paintings   \n",
       "855    Literature Circle Guide: Bridge to Terabithia:...   \n",
       "1243   Middlesex Borough (Images of America: New Jersey)   \n",
       "4125   Zone of the Enders: The 2nd Runner Official St...   \n",
       "4788   The Diamond Color Meditation: Color Pathway to...   \n",
       "4933   Bulgakov's the Master and Margarita: The Text ...   \n",
       "5023   The Complete Theory Fun Factory: Music Theory ...   \n",
       "5474   The Goon Show  Volume 4: My Knees Have Fallen ...   \n",
       "5476   The Goon Show  Volume 11: He's Fallen in the W...   \n",
       "5647                                 Winchester Shotguns   \n",
       "5648   Colossians and Philemon: A Critical and Exeget...   \n",
       "6184                           Taxation of Mineral Rents   \n",
       "6247                         The New Big Book of America   \n",
       "6775   Delwau Duon: Peintiadau Nicholas Evans = Symph...   \n",
       "8544        Fanning the Flame: Bible  Cross  and Mission   \n",
       "9282   Oliver Wendell Holmes in Paris: Medicine  Theo...   \n",
       "9324                  Tyrannosaurus Wrecks (Stanley  #1)   \n",
       "9720       The Irish Anatomist: A Study of Flann O'Brien   \n",
       "9847   The American Campaign: U.S. Presidential Campa...   \n",
       "9893   His Princess Devotional: A Royal Encounter Wit...   \n",
       "10262         Bill Gates: Computer Legend (Famous Lives)   \n",
       "\n",
       "                                                 authors language_code  \\\n",
       "624                  Aristophanes/F.W. Hall/W.M. Geldart           grc   \n",
       "786                      Julie Sylvester/David Sylvester           eng   \n",
       "855                                       Tara MacCarthy           eng   \n",
       "1243                Middlesex Borough Heritage Committee           eng   \n",
       "4125                                          Tim Bogenn           eng   \n",
       "4788                                       John  Diamond           eng   \n",
       "4933                                     Elena N. Mahlow           eng   \n",
       "5023                     Ian        Martin/Katie Elliott           eng   \n",
       "5474                                          NOT A BOOK           eng   \n",
       "5476                                          NOT A BOOK           eng   \n",
       "5647                            Dennis Adler/R.L. Wilson           eng   \n",
       "5648                                      R. McL. Wilson           eng   \n",
       "6184                                        Ross Garnaut           eng   \n",
       "6247                                Todd Davis/Marc Frey           eng   \n",
       "6775                     Nicholas    Evans/Rhonda  Evans           wel   \n",
       "8544    Chris    Green/Chris Wright/Paul Douglas Gardner           eng   \n",
       "9282                                  William C. Dowling           eng   \n",
       "9324   Laura Driscoll/Alisa Klayman-Grodsky/Eric     ...           eng   \n",
       "9720                                       Keith Donohue           eng   \n",
       "9847                                   James E. Campbell           eng   \n",
       "9893                                 Sheri Rose Shepherd           eng   \n",
       "10262                                   Sara Barton-Wood           eng   \n",
       "\n",
       "                             publisher  \n",
       "624       Oxford University Press  USA  \n",
       "786                     Schirmer Mosel  \n",
       "855                 Teaching Resources  \n",
       "1243                Arcadia Publishing  \n",
       "4125                        BradyGames  \n",
       "4788             Square One Publishers  \n",
       "4933                     Vantage Press  \n",
       "5023               Boosey & Hawkes Inc  \n",
       "5474                BBC Physical Audio  \n",
       "5476                BBC Physical Audio  \n",
       "5647                   Chartwell Books  \n",
       "5648                   T&T Clark Int'l  \n",
       "6184      Oxford University Press  USA  \n",
       "6247                     Courage Books  \n",
       "6775                           Y Lolfa  \n",
       "8544                         Zondervan  \n",
       "9282   University Press of New England  \n",
       "9324                      Disney Press  \n",
       "9720                   Academica Press  \n",
       "9847        Texas A&M University Press  \n",
       "9893                         Multnomah  \n",
       "10262                         Raintree  "
      ]
     },
     "execution_count": 38,
     "metadata": {},
     "output_type": "execute_result"
    }
   ],
   "source": [
    "df[df.average_rating == df.average_rating.max()][['title','authors','language_code','publisher']]"
   ]
  },
  {
   "cell_type": "code",
   "execution_count": 39,
   "id": "850aec7d",
   "metadata": {},
   "outputs": [
    {
     "data": {
      "text/plain": [
       "Vintage                         318\n",
       "Penguin Books                   261\n",
       "Penguin Classics                184\n",
       "Mariner Books                   150\n",
       "Ballantine Books                144\n",
       "HarperCollins                   112\n",
       "Harper Perennial                112\n",
       "Pocket Books                    111\n",
       "Bantam                          110\n",
       "VIZ Media LLC                    88\n",
       "Berkley                          86\n",
       "Dover Publications               85\n",
       "Modern Library                   82\n",
       "Del Rey                          80\n",
       "Tor Books                        76\n",
       "Grand Central Publishing         76\n",
       "Oxford University Press  USA     75\n",
       "Oxford University Press          73\n",
       "Scribner                         73\n",
       "W. W. Norton  Company            68\n",
       "Name: publisher, dtype: int64"
      ]
     },
     "execution_count": 39,
     "metadata": {},
     "output_type": "execute_result"
    }
   ],
   "source": [
    "publisher = df['publisher'].value_counts()[:20]\n",
    "publisher"
   ]
  },
  {
   "cell_type": "code",
   "execution_count": 40,
   "id": "38ab526a",
   "metadata": {},
   "outputs": [
    {
     "data": {
      "image/png": "[encoded data removed]",
      "text/plain": [
       "<Figure size 432x288 with 1 Axes>"
      ]
     },
     "metadata": {
      "needs_background": "light"
     },
     "output_type": "display_data"
    }
   ],
   "source": [
    "publisher = df['publisher'].value_counts()[:20]\n",
    "sns.barplot(x = publisher.index, y = publisher, palette = 'winter_r')\n",
    "plt.title(\"Publishers\")\n",
    "plt.xlabel(\"Number of Occurance\")\n",
    "plt.ylabel(\"Publishers\")\n",
    "plt.xticks(rotation = 75, fontsize = 13)\n",
    "plt.show()"
   ]
  },
  {
   "cell_type": "markdown",
   "id": "2157eb61",
   "metadata": {},
   "source": [
    "### Recommending Books based on Publishers\n",
    "### Recommending Books based on Authors\n",
    "### Recommending Books based on Language"
   ]
  },
  {
   "cell_type": "code",
   "execution_count": 41,
   "id": "757f8866",
   "metadata": {},
   "outputs": [
    {
     "data": {
      "text/plain": [
       "Vintage                          318\n",
       "Penguin Books                    261\n",
       "Penguin Classics                 184\n",
       "Mariner Books                    150\n",
       "Ballantine Books                 144\n",
       "                                ... \n",
       "American Diabetes Association      1\n",
       "Fantasy Flight Games               1\n",
       "Viking Press                       1\n",
       "Trafalgar Square Publishing        1\n",
       "Penguin Books (NY)                 1\n",
       "Name: publisher, Length: 2290, dtype: int64"
      ]
     },
     "execution_count": 41,
     "metadata": {},
     "output_type": "execute_result"
    }
   ],
   "source": [
    "df.publisher.value_counts()"
   ]
  },
  {
   "cell_type": "code",
   "execution_count": 42,
   "id": "87583f70",
   "metadata": {},
   "outputs": [
    {
     "data": {
      "text/plain": [
       "Index(['title', 'authors', 'average_rating', 'language_code', 'num_pages',\n",
       "       'ratings_count', 'text_reviews_count', 'publication_date', 'publisher',\n",
       "       'year'],\n",
       "      dtype='object')"
      ]
     },
     "execution_count": 42,
     "metadata": {},
     "output_type": "execute_result"
    }
   ],
   "source": [
    "df.columns\n"
   ]
  },
  {
   "cell_type": "code",
   "execution_count": 43,
   "id": "409131d3",
   "metadata": {},
   "outputs": [],
   "source": [
    "def recomd_books_publisheres(x):\n",
    "    a = df[df['publisher'] == x][['title', 'average_rating']]\n",
    "    a = a.sort_values(by = 'average_rating', ascending = False)\n",
    "    return a.head(10)"
   ]
  },
  {
   "cell_type": "code",
   "execution_count": 44,
   "id": "c7ca6d7d",
   "metadata": {},
   "outputs": [
    {
     "data": {
      "text/html": [
       "<div>\n",
       "<style scoped>\n",
       "    .dataframe tbody tr th:only-of-type {\n",
       "        vertical-align: middle;\n",
       "    }\n",
       "\n",
       "    .dataframe tbody tr th {\n",
       "        vertical-align: top;\n",
       "    }\n",
       "\n",
       "    .dataframe thead th {\n",
       "        text-align: right;\n",
       "    }\n",
       "</style>\n",
       "<table border=\"1\" class=\"dataframe\">\n",
       "  <thead>\n",
       "    <tr style=\"text-align: right;\">\n",
       "      <th></th>\n",
       "      <th>title</th>\n",
       "      <th>average_rating</th>\n",
       "    </tr>\n",
       "  </thead>\n",
       "  <tbody>\n",
       "    <tr>\n",
       "      <th>7371</th>\n",
       "      <td>Remembrance of Things Past: Volume II - The Gu...</td>\n",
       "      <td>4.53</td>\n",
       "    </tr>\n",
       "    <tr>\n",
       "      <th>335</th>\n",
       "      <td>The Power Broker: Robert Moses and the Fall of...</td>\n",
       "      <td>4.51</td>\n",
       "    </tr>\n",
       "    <tr>\n",
       "      <th>10838</th>\n",
       "      <td>The Civil War  Vol. 1: Fort Sumter to Perryville</td>\n",
       "      <td>4.42</td>\n",
       "    </tr>\n",
       "    <tr>\n",
       "      <th>1775</th>\n",
       "      <td>The Son Avenger (The Master of Hestviken  #4)</td>\n",
       "      <td>4.40</td>\n",
       "    </tr>\n",
       "    <tr>\n",
       "      <th>1505</th>\n",
       "      <td>A Fine Balance</td>\n",
       "      <td>4.36</td>\n",
       "    </tr>\n",
       "    <tr>\n",
       "      <th>9626</th>\n",
       "      <td>Nobody Knows My Name</td>\n",
       "      <td>4.35</td>\n",
       "    </tr>\n",
       "    <tr>\n",
       "      <th>2267</th>\n",
       "      <td>The Stories of Vladimir Nabokov</td>\n",
       "      <td>4.30</td>\n",
       "    </tr>\n",
       "    <tr>\n",
       "      <th>3112</th>\n",
       "      <td>All of Us: The Collected Poems</td>\n",
       "      <td>4.30</td>\n",
       "    </tr>\n",
       "    <tr>\n",
       "      <th>8787</th>\n",
       "      <td>Selected Stories</td>\n",
       "      <td>4.28</td>\n",
       "    </tr>\n",
       "    <tr>\n",
       "      <th>4019</th>\n",
       "      <td>Selected Stories</td>\n",
       "      <td>4.28</td>\n",
       "    </tr>\n",
       "  </tbody>\n",
       "</table>\n",
       "</div>"
      ],
      "text/plain": [
       "                                                   title  average_rating\n",
       "7371   Remembrance of Things Past: Volume II - The Gu...            4.53\n",
       "335    The Power Broker: Robert Moses and the Fall of...            4.51\n",
       "10838   The Civil War  Vol. 1: Fort Sumter to Perryville            4.42\n",
       "1775       The Son Avenger (The Master of Hestviken  #4)            4.40\n",
       "1505                                      A Fine Balance            4.36\n",
       "9626                                Nobody Knows My Name            4.35\n",
       "2267                     The Stories of Vladimir Nabokov            4.30\n",
       "3112                      All of Us: The Collected Poems            4.30\n",
       "8787                                    Selected Stories            4.28\n",
       "4019                                    Selected Stories            4.28"
      ]
     },
     "execution_count": 44,
     "metadata": {},
     "output_type": "execute_result"
    }
   ],
   "source": [
    "recomd_books_publisheres('Vintage')"
   ]
  },
  {
   "cell_type": "code",
   "execution_count": 45,
   "id": "4299533b",
   "metadata": {},
   "outputs": [
    {
     "data": {
      "text/html": [
       "<div>\n",
       "<style scoped>\n",
       "    .dataframe tbody tr th:only-of-type {\n",
       "        vertical-align: middle;\n",
       "    }\n",
       "\n",
       "    .dataframe tbody tr th {\n",
       "        vertical-align: top;\n",
       "    }\n",
       "\n",
       "    .dataframe thead th {\n",
       "        text-align: right;\n",
       "    }\n",
       "</style>\n",
       "<table border=\"1\" class=\"dataframe\">\n",
       "  <thead>\n",
       "    <tr style=\"text-align: right;\">\n",
       "      <th></th>\n",
       "      <th>title</th>\n",
       "      <th>average_rating</th>\n",
       "    </tr>\n",
       "  </thead>\n",
       "  <tbody>\n",
       "    <tr>\n",
       "      <th>4244</th>\n",
       "      <td>The Complete Maus</td>\n",
       "      <td>4.55</td>\n",
       "    </tr>\n",
       "    <tr>\n",
       "      <th>5564</th>\n",
       "      <td>The Penguin Companion to European Literature</td>\n",
       "      <td>4.50</td>\n",
       "    </tr>\n",
       "    <tr>\n",
       "      <th>1381</th>\n",
       "      <td>Before The Mayflower A History of Black America</td>\n",
       "      <td>4.44</td>\n",
       "    </tr>\n",
       "    <tr>\n",
       "      <th>4602</th>\n",
       "      <td>Selected Non-Fictions</td>\n",
       "      <td>4.43</td>\n",
       "    </tr>\n",
       "    <tr>\n",
       "      <th>3011</th>\n",
       "      <td>The Read-Aloud Handbook</td>\n",
       "      <td>4.41</td>\n",
       "    </tr>\n",
       "    <tr>\n",
       "      <th>4551</th>\n",
       "      <td>Life With Jeeves (Jeeves  #6  2  &amp; 4)</td>\n",
       "      <td>4.39</td>\n",
       "    </tr>\n",
       "    <tr>\n",
       "      <th>1275</th>\n",
       "      <td>East of Eden</td>\n",
       "      <td>4.37</td>\n",
       "    </tr>\n",
       "    <tr>\n",
       "      <th>3304</th>\n",
       "      <td>Ludwig Wittgenstein: The Duty of Genius</td>\n",
       "      <td>4.36</td>\n",
       "    </tr>\n",
       "    <tr>\n",
       "      <th>4980</th>\n",
       "      <td>Life at Blandings</td>\n",
       "      <td>4.35</td>\n",
       "    </tr>\n",
       "    <tr>\n",
       "      <th>10867</th>\n",
       "      <td>The Portable Dorothy Parker</td>\n",
       "      <td>4.34</td>\n",
       "    </tr>\n",
       "  </tbody>\n",
       "</table>\n",
       "</div>"
      ],
      "text/plain": [
       "                                                 title  average_rating\n",
       "4244                                 The Complete Maus            4.55\n",
       "5564      The Penguin Companion to European Literature            4.50\n",
       "1381   Before The Mayflower A History of Black America            4.44\n",
       "4602                             Selected Non-Fictions            4.43\n",
       "3011                           The Read-Aloud Handbook            4.41\n",
       "4551             Life With Jeeves (Jeeves  #6  2  & 4)            4.39\n",
       "1275                                      East of Eden            4.37\n",
       "3304           Ludwig Wittgenstein: The Duty of Genius            4.36\n",
       "4980                                 Life at Blandings            4.35\n",
       "10867                      The Portable Dorothy Parker            4.34"
      ]
     },
     "execution_count": 45,
     "metadata": {},
     "output_type": "execute_result"
    }
   ],
   "source": [
    "recomd_books_publisheres('Penguin Books')"
   ]
  },
  {
   "cell_type": "code",
   "execution_count": 46,
   "id": "27709159",
   "metadata": {},
   "outputs": [
    {
     "data": {
      "application/vnd.jupyter.widget-view+json": {
       "model_id": "fd60662e74d8484981a060ec25904ff7",
       "version_major": 2,
       "version_minor": 0
      },
      "text/plain": [
       "interactive(children=(Dropdown(description='publisher_name', options=('Vintage', 'Penguin Books', 'Penguin Cla…"
      ]
     },
     "metadata": {},
     "output_type": "display_data"
    }
   ],
   "source": [
    "@interact\n",
    "def recomd_books_publishers(publisher_name = list(df['publisher'].value_counts().index)):\n",
    "    a = df[df['publisher'] == publisher_name][['title', 'average_rating']]\n",
    "    a = a.sort_values(by = 'average_rating', ascending = False)\n",
    "    return a.head(10)"
   ]
  },
  {
   "cell_type": "code",
   "execution_count": 47,
   "id": "5f984078",
   "metadata": {},
   "outputs": [
    {
     "data": {
      "text/plain": [
       "Index(['title', 'authors', 'average_rating', 'language_code', 'num_pages',\n",
       "       'ratings_count', 'text_reviews_count', 'publication_date', 'publisher',\n",
       "       'year'],\n",
       "      dtype='object')"
      ]
     },
     "execution_count": 47,
     "metadata": {},
     "output_type": "execute_result"
    }
   ],
   "source": [
    "df.columns"
   ]
  },
  {
   "cell_type": "markdown",
   "id": "013c930b",
   "metadata": {},
   "source": [
    "# based upon Authors"
   ]
  },
  {
   "cell_type": "code",
   "execution_count": 48,
   "id": "fe1b091f",
   "metadata": {},
   "outputs": [
    {
     "data": {
      "application/vnd.jupyter.widget-view+json": {
       "model_id": "81da2ed763c8407d9b0729fdaf5dbe85",
       "version_major": 2,
       "version_minor": 0
      },
      "text/plain": [
       "interactive(children=(Dropdown(description='authors_name', options=('Stephen King', 'P.G. Wodehouse', 'Rumiko …"
      ]
     },
     "metadata": {},
     "output_type": "display_data"
    }
   ],
   "source": [
    "@interact\n",
    "def recomd_books_authors(authors_name = list(df['authors'].value_counts().index)):\n",
    "    a = df[df['authors'] == authors_name][['title', 'average_rating']]\n",
    "    a = a.sort_values(by = 'average_rating', ascending = False)\n",
    "    return a.head(10)"
   ]
  },
  {
   "cell_type": "code",
   "execution_count": 49,
   "id": "3ffc27ba",
   "metadata": {},
   "outputs": [
    {
     "data": {
      "text/plain": [
       "Index(['title', 'authors', 'average_rating', 'language_code', 'num_pages',\n",
       "       'ratings_count', 'text_reviews_count', 'publication_date', 'publisher',\n",
       "       'year'],\n",
       "      dtype='object')"
      ]
     },
     "execution_count": 49,
     "metadata": {},
     "output_type": "execute_result"
    }
   ],
   "source": [
    "df.columns"
   ]
  },
  {
   "cell_type": "code",
   "execution_count": 50,
   "id": "e5975c0f",
   "metadata": {},
   "outputs": [
    {
     "data": {
      "application/vnd.jupyter.widget-view+json": {
       "model_id": "ee8a6694dfeb413e92163f14a14cbc7e",
       "version_major": 2,
       "version_minor": 0
      },
      "text/plain": [
       "interactive(children=(Dropdown(description='language', options=('eng', 'en-US', 'spa', 'en-GB', 'fre', 'ger', …"
      ]
     },
     "metadata": {},
     "output_type": "display_data"
    }
   ],
   "source": [
    "@interact\n",
    "def recomd_books_lang(language = list(df['language_code'].value_counts().index)):\n",
    "    a = df[df['language_code'] == language][['title', 'average_rating']]\n",
    "    a = a.sort_values(by = 'average_rating', ascending = False)\n",
    "    return a.head(10)"
   ]
  },
  {
   "cell_type": "markdown",
   "id": "8b99e4e8",
   "metadata": {},
   "source": [
    "# Data Preprocessing"
   ]
  },
  {
   "cell_type": "code",
   "execution_count": 51,
   "id": "ef000752",
   "metadata": {},
   "outputs": [
    {
     "data": {
      "text/html": [
       "<div>\n",
       "<style scoped>\n",
       "    .dataframe tbody tr th:only-of-type {\n",
       "        vertical-align: middle;\n",
       "    }\n",
       "\n",
       "    .dataframe tbody tr th {\n",
       "        vertical-align: top;\n",
       "    }\n",
       "\n",
       "    .dataframe thead th {\n",
       "        text-align: right;\n",
       "    }\n",
       "</style>\n",
       "<table border=\"1\" class=\"dataframe\">\n",
       "  <thead>\n",
       "    <tr style=\"text-align: right;\">\n",
       "      <th></th>\n",
       "      <th>title</th>\n",
       "      <th>authors</th>\n",
       "      <th>average_rating</th>\n",
       "      <th>language_code</th>\n",
       "      <th>num_pages</th>\n",
       "      <th>ratings_count</th>\n",
       "      <th>text_reviews_count</th>\n",
       "      <th>publication_date</th>\n",
       "      <th>publisher</th>\n",
       "      <th>year</th>\n",
       "    </tr>\n",
       "  </thead>\n",
       "  <tbody>\n",
       "    <tr>\n",
       "      <th>0</th>\n",
       "      <td>Harry Potter and the Half-Blood Prince (Harry ...</td>\n",
       "      <td>J.K. Rowling/Mary GrandPré</td>\n",
       "      <td>4.57</td>\n",
       "      <td>eng</td>\n",
       "      <td>652</td>\n",
       "      <td>2095690</td>\n",
       "      <td>27591</td>\n",
       "      <td>9/16/2006</td>\n",
       "      <td>Scholastic Inc.</td>\n",
       "      <td>2006</td>\n",
       "    </tr>\n",
       "    <tr>\n",
       "      <th>1</th>\n",
       "      <td>Harry Potter and the Order of the Phoenix (Har...</td>\n",
       "      <td>J.K. Rowling/Mary GrandPré</td>\n",
       "      <td>4.49</td>\n",
       "      <td>eng</td>\n",
       "      <td>870</td>\n",
       "      <td>2153167</td>\n",
       "      <td>29221</td>\n",
       "      <td>9/1/2004</td>\n",
       "      <td>Scholastic Inc.</td>\n",
       "      <td>2004</td>\n",
       "    </tr>\n",
       "  </tbody>\n",
       "</table>\n",
       "</div>"
      ],
      "text/plain": [
       "                                               title  \\\n",
       "0  Harry Potter and the Half-Blood Prince (Harry ...   \n",
       "1  Harry Potter and the Order of the Phoenix (Har...   \n",
       "\n",
       "                      authors  average_rating language_code  num_pages  \\\n",
       "0  J.K. Rowling/Mary GrandPré            4.57           eng        652   \n",
       "1  J.K. Rowling/Mary GrandPré            4.49           eng        870   \n",
       "\n",
       "   ratings_count  text_reviews_count publication_date        publisher  year  \n",
       "0        2095690               27591        9/16/2006  Scholastic Inc.  2006  \n",
       "1        2153167               29221         9/1/2004  Scholastic Inc.  2004  "
      ]
     },
     "execution_count": 51,
     "metadata": {},
     "output_type": "execute_result"
    }
   ],
   "source": [
    "df.head(2)"
   ]
  },
  {
   "cell_type": "code",
   "execution_count": 52,
   "id": "c500a8a3",
   "metadata": {},
   "outputs": [],
   "source": [
    "def num_to_obj(x):\n",
    "    if x >0 and x <=1:\n",
    "        return \"between 0 and 1\"\n",
    "    if x > 1 and x <= 2:\n",
    "        return \"between 1 and 2\"\n",
    "    if x > 2 and x <=3:\n",
    "        return \"between 2 and 3\"\n",
    "    if x >3 and x<=4:\n",
    "        return \"between 3 and 4\"\n",
    "    if x >4 and x<=5:\n",
    "        return \"between 4 and 5\"\n",
    "df['rating_obj'] = df['average_rating'].apply(num_to_obj)"
   ]
  },
  {
   "cell_type": "code",
   "execution_count": 53,
   "id": "06c30f89",
   "metadata": {},
   "outputs": [
    {
     "data": {
      "text/plain": [
       "between 3 and 4    6285\n",
       "between 4 and 5    4735\n",
       "between 2 and 3      69\n",
       "between 1 and 2       7\n",
       "between 0 and 1       2\n",
       "Name: rating_obj, dtype: int64"
      ]
     },
     "execution_count": 53,
     "metadata": {},
     "output_type": "execute_result"
    }
   ],
   "source": [
    "df['rating_obj'].value_counts()"
   ]
  },
  {
   "cell_type": "code",
   "execution_count": 54,
   "id": "f2128976",
   "metadata": {
    "scrolled": true
   },
   "outputs": [
    {
     "data": {
      "text/html": [
       "<div>\n",
       "<style scoped>\n",
       "    .dataframe tbody tr th:only-of-type {\n",
       "        vertical-align: middle;\n",
       "    }\n",
       "\n",
       "    .dataframe tbody tr th {\n",
       "        vertical-align: top;\n",
       "    }\n",
       "\n",
       "    .dataframe thead th {\n",
       "        text-align: right;\n",
       "    }\n",
       "</style>\n",
       "<table border=\"1\" class=\"dataframe\">\n",
       "  <thead>\n",
       "    <tr style=\"text-align: right;\">\n",
       "      <th></th>\n",
       "      <th>between 0 and 1</th>\n",
       "      <th>between 1 and 2</th>\n",
       "      <th>between 2 and 3</th>\n",
       "      <th>between 3 and 4</th>\n",
       "      <th>between 4 and 5</th>\n",
       "    </tr>\n",
       "  </thead>\n",
       "  <tbody>\n",
       "    <tr>\n",
       "      <th>0</th>\n",
       "      <td>0</td>\n",
       "      <td>0</td>\n",
       "      <td>0</td>\n",
       "      <td>0</td>\n",
       "      <td>1</td>\n",
       "    </tr>\n",
       "    <tr>\n",
       "      <th>1</th>\n",
       "      <td>0</td>\n",
       "      <td>0</td>\n",
       "      <td>0</td>\n",
       "      <td>0</td>\n",
       "      <td>1</td>\n",
       "    </tr>\n",
       "    <tr>\n",
       "      <th>2</th>\n",
       "      <td>0</td>\n",
       "      <td>0</td>\n",
       "      <td>0</td>\n",
       "      <td>0</td>\n",
       "      <td>1</td>\n",
       "    </tr>\n",
       "    <tr>\n",
       "      <th>3</th>\n",
       "      <td>0</td>\n",
       "      <td>0</td>\n",
       "      <td>0</td>\n",
       "      <td>0</td>\n",
       "      <td>1</td>\n",
       "    </tr>\n",
       "    <tr>\n",
       "      <th>4</th>\n",
       "      <td>0</td>\n",
       "      <td>0</td>\n",
       "      <td>0</td>\n",
       "      <td>0</td>\n",
       "      <td>1</td>\n",
       "    </tr>\n",
       "  </tbody>\n",
       "</table>\n",
       "</div>"
      ],
      "text/plain": [
       "   between 0 and 1  between 1 and 2  between 2 and 3  between 3 and 4  \\\n",
       "0                0                0                0                0   \n",
       "1                0                0                0                0   \n",
       "2                0                0                0                0   \n",
       "3                0                0                0                0   \n",
       "4                0                0                0                0   \n",
       "\n",
       "   between 4 and 5  \n",
       "0                1  \n",
       "1                1  \n",
       "2                1  \n",
       "3                1  \n",
       "4                1  "
      ]
     },
     "execution_count": 54,
     "metadata": {},
     "output_type": "execute_result"
    }
   ],
   "source": [
    "rating_df = pd.get_dummies(df['rating_obj'])\n",
    "rating_df.head()"
   ]
  },
  {
   "cell_type": "code",
   "execution_count": 55,
   "id": "17888047",
   "metadata": {},
   "outputs": [
    {
     "data": {
      "text/plain": [
       "Index(['title', 'authors', 'average_rating', 'language_code', 'num_pages',\n",
       "       'ratings_count', 'text_reviews_count', 'publication_date', 'publisher',\n",
       "       'year', 'rating_obj'],\n",
       "      dtype='object')"
      ]
     },
     "execution_count": 55,
     "metadata": {},
     "output_type": "execute_result"
    }
   ],
   "source": [
    "df.columns"
   ]
  },
  {
   "cell_type": "code",
   "execution_count": 56,
   "id": "2fc63fd4",
   "metadata": {},
   "outputs": [
    {
     "data": {
      "text/html": [
       "<div>\n",
       "<style scoped>\n",
       "    .dataframe tbody tr th:only-of-type {\n",
       "        vertical-align: middle;\n",
       "    }\n",
       "\n",
       "    .dataframe tbody tr th {\n",
       "        vertical-align: top;\n",
       "    }\n",
       "\n",
       "    .dataframe thead th {\n",
       "        text-align: right;\n",
       "    }\n",
       "</style>\n",
       "<table border=\"1\" class=\"dataframe\">\n",
       "  <thead>\n",
       "    <tr style=\"text-align: right;\">\n",
       "      <th></th>\n",
       "      <th>ale</th>\n",
       "      <th>ara</th>\n",
       "      <th>en-CA</th>\n",
       "      <th>en-GB</th>\n",
       "      <th>en-US</th>\n",
       "      <th>eng</th>\n",
       "      <th>enm</th>\n",
       "      <th>fre</th>\n",
       "      <th>ger</th>\n",
       "      <th>gla</th>\n",
       "      <th>...</th>\n",
       "      <th>nl</th>\n",
       "      <th>nor</th>\n",
       "      <th>por</th>\n",
       "      <th>rus</th>\n",
       "      <th>spa</th>\n",
       "      <th>srp</th>\n",
       "      <th>swe</th>\n",
       "      <th>tur</th>\n",
       "      <th>wel</th>\n",
       "      <th>zho</th>\n",
       "    </tr>\n",
       "  </thead>\n",
       "  <tbody>\n",
       "    <tr>\n",
       "      <th>0</th>\n",
       "      <td>0</td>\n",
       "      <td>0</td>\n",
       "      <td>0</td>\n",
       "      <td>0</td>\n",
       "      <td>0</td>\n",
       "      <td>1</td>\n",
       "      <td>0</td>\n",
       "      <td>0</td>\n",
       "      <td>0</td>\n",
       "      <td>0</td>\n",
       "      <td>...</td>\n",
       "      <td>0</td>\n",
       "      <td>0</td>\n",
       "      <td>0</td>\n",
       "      <td>0</td>\n",
       "      <td>0</td>\n",
       "      <td>0</td>\n",
       "      <td>0</td>\n",
       "      <td>0</td>\n",
       "      <td>0</td>\n",
       "      <td>0</td>\n",
       "    </tr>\n",
       "    <tr>\n",
       "      <th>1</th>\n",
       "      <td>0</td>\n",
       "      <td>0</td>\n",
       "      <td>0</td>\n",
       "      <td>0</td>\n",
       "      <td>0</td>\n",
       "      <td>1</td>\n",
       "      <td>0</td>\n",
       "      <td>0</td>\n",
       "      <td>0</td>\n",
       "      <td>0</td>\n",
       "      <td>...</td>\n",
       "      <td>0</td>\n",
       "      <td>0</td>\n",
       "      <td>0</td>\n",
       "      <td>0</td>\n",
       "      <td>0</td>\n",
       "      <td>0</td>\n",
       "      <td>0</td>\n",
       "      <td>0</td>\n",
       "      <td>0</td>\n",
       "      <td>0</td>\n",
       "    </tr>\n",
       "    <tr>\n",
       "      <th>2</th>\n",
       "      <td>0</td>\n",
       "      <td>0</td>\n",
       "      <td>0</td>\n",
       "      <td>0</td>\n",
       "      <td>0</td>\n",
       "      <td>1</td>\n",
       "      <td>0</td>\n",
       "      <td>0</td>\n",
       "      <td>0</td>\n",
       "      <td>0</td>\n",
       "      <td>...</td>\n",
       "      <td>0</td>\n",
       "      <td>0</td>\n",
       "      <td>0</td>\n",
       "      <td>0</td>\n",
       "      <td>0</td>\n",
       "      <td>0</td>\n",
       "      <td>0</td>\n",
       "      <td>0</td>\n",
       "      <td>0</td>\n",
       "      <td>0</td>\n",
       "    </tr>\n",
       "    <tr>\n",
       "      <th>3</th>\n",
       "      <td>0</td>\n",
       "      <td>0</td>\n",
       "      <td>0</td>\n",
       "      <td>0</td>\n",
       "      <td>0</td>\n",
       "      <td>1</td>\n",
       "      <td>0</td>\n",
       "      <td>0</td>\n",
       "      <td>0</td>\n",
       "      <td>0</td>\n",
       "      <td>...</td>\n",
       "      <td>0</td>\n",
       "      <td>0</td>\n",
       "      <td>0</td>\n",
       "      <td>0</td>\n",
       "      <td>0</td>\n",
       "      <td>0</td>\n",
       "      <td>0</td>\n",
       "      <td>0</td>\n",
       "      <td>0</td>\n",
       "      <td>0</td>\n",
       "    </tr>\n",
       "    <tr>\n",
       "      <th>4</th>\n",
       "      <td>0</td>\n",
       "      <td>0</td>\n",
       "      <td>0</td>\n",
       "      <td>0</td>\n",
       "      <td>0</td>\n",
       "      <td>1</td>\n",
       "      <td>0</td>\n",
       "      <td>0</td>\n",
       "      <td>0</td>\n",
       "      <td>0</td>\n",
       "      <td>...</td>\n",
       "      <td>0</td>\n",
       "      <td>0</td>\n",
       "      <td>0</td>\n",
       "      <td>0</td>\n",
       "      <td>0</td>\n",
       "      <td>0</td>\n",
       "      <td>0</td>\n",
       "      <td>0</td>\n",
       "      <td>0</td>\n",
       "      <td>0</td>\n",
       "    </tr>\n",
       "  </tbody>\n",
       "</table>\n",
       "<p>5 rows × 27 columns</p>\n",
       "</div>"
      ],
      "text/plain": [
       "   ale  ara  en-CA  en-GB  en-US  eng  enm  fre  ger  gla  ...  nl  nor  por  \\\n",
       "0    0    0      0      0      0    1    0    0    0    0  ...   0    0    0   \n",
       "1    0    0      0      0      0    1    0    0    0    0  ...   0    0    0   \n",
       "2    0    0      0      0      0    1    0    0    0    0  ...   0    0    0   \n",
       "3    0    0      0      0      0    1    0    0    0    0  ...   0    0    0   \n",
       "4    0    0      0      0      0    1    0    0    0    0  ...   0    0    0   \n",
       "\n",
       "   rus  spa  srp  swe  tur  wel  zho  \n",
       "0    0    0    0    0    0    0    0  \n",
       "1    0    0    0    0    0    0    0  \n",
       "2    0    0    0    0    0    0    0  \n",
       "3    0    0    0    0    0    0    0  \n",
       "4    0    0    0    0    0    0    0  \n",
       "\n",
       "[5 rows x 27 columns]"
      ]
     },
     "execution_count": 56,
     "metadata": {},
     "output_type": "execute_result"
    }
   ],
   "source": [
    "language_df = pd.get_dummies(df['language_code'])\n",
    "language_df.head()"
   ]
  },
  {
   "cell_type": "code",
   "execution_count": 57,
   "id": "340bc6f9",
   "metadata": {},
   "outputs": [
    {
     "data": {
      "text/html": [
       "<div>\n",
       "<style scoped>\n",
       "    .dataframe tbody tr th:only-of-type {\n",
       "        vertical-align: middle;\n",
       "    }\n",
       "\n",
       "    .dataframe tbody tr th {\n",
       "        vertical-align: top;\n",
       "    }\n",
       "\n",
       "    .dataframe thead th {\n",
       "        text-align: right;\n",
       "    }\n",
       "</style>\n",
       "<table border=\"1\" class=\"dataframe\">\n",
       "  <thead>\n",
       "    <tr style=\"text-align: right;\">\n",
       "      <th></th>\n",
       "      <th>between 0 and 1</th>\n",
       "      <th>between 1 and 2</th>\n",
       "      <th>between 2 and 3</th>\n",
       "      <th>between 3 and 4</th>\n",
       "      <th>between 4 and 5</th>\n",
       "      <th>ale</th>\n",
       "      <th>ara</th>\n",
       "      <th>en-CA</th>\n",
       "      <th>en-GB</th>\n",
       "      <th>en-US</th>\n",
       "      <th>...</th>\n",
       "      <th>por</th>\n",
       "      <th>rus</th>\n",
       "      <th>spa</th>\n",
       "      <th>srp</th>\n",
       "      <th>swe</th>\n",
       "      <th>tur</th>\n",
       "      <th>wel</th>\n",
       "      <th>zho</th>\n",
       "      <th>average_rating</th>\n",
       "      <th>ratings_count</th>\n",
       "    </tr>\n",
       "    <tr>\n",
       "      <th>title</th>\n",
       "      <th></th>\n",
       "      <th></th>\n",
       "      <th></th>\n",
       "      <th></th>\n",
       "      <th></th>\n",
       "      <th></th>\n",
       "      <th></th>\n",
       "      <th></th>\n",
       "      <th></th>\n",
       "      <th></th>\n",
       "      <th></th>\n",
       "      <th></th>\n",
       "      <th></th>\n",
       "      <th></th>\n",
       "      <th></th>\n",
       "      <th></th>\n",
       "      <th></th>\n",
       "      <th></th>\n",
       "      <th></th>\n",
       "      <th></th>\n",
       "      <th></th>\n",
       "    </tr>\n",
       "  </thead>\n",
       "  <tbody>\n",
       "    <tr>\n",
       "      <th>Harry Potter and the Half-Blood Prince (Harry Potter  #6)</th>\n",
       "      <td>0</td>\n",
       "      <td>0</td>\n",
       "      <td>0</td>\n",
       "      <td>0</td>\n",
       "      <td>1</td>\n",
       "      <td>0</td>\n",
       "      <td>0</td>\n",
       "      <td>0</td>\n",
       "      <td>0</td>\n",
       "      <td>0</td>\n",
       "      <td>...</td>\n",
       "      <td>0</td>\n",
       "      <td>0</td>\n",
       "      <td>0</td>\n",
       "      <td>0</td>\n",
       "      <td>0</td>\n",
       "      <td>0</td>\n",
       "      <td>0</td>\n",
       "      <td>0</td>\n",
       "      <td>4.57</td>\n",
       "      <td>2095690</td>\n",
       "    </tr>\n",
       "    <tr>\n",
       "      <th>Harry Potter and the Order of the Phoenix (Harry Potter  #5)</th>\n",
       "      <td>0</td>\n",
       "      <td>0</td>\n",
       "      <td>0</td>\n",
       "      <td>0</td>\n",
       "      <td>1</td>\n",
       "      <td>0</td>\n",
       "      <td>0</td>\n",
       "      <td>0</td>\n",
       "      <td>0</td>\n",
       "      <td>0</td>\n",
       "      <td>...</td>\n",
       "      <td>0</td>\n",
       "      <td>0</td>\n",
       "      <td>0</td>\n",
       "      <td>0</td>\n",
       "      <td>0</td>\n",
       "      <td>0</td>\n",
       "      <td>0</td>\n",
       "      <td>0</td>\n",
       "      <td>4.49</td>\n",
       "      <td>2153167</td>\n",
       "    </tr>\n",
       "    <tr>\n",
       "      <th>Harry Potter and the Chamber of Secrets (Harry Potter  #2)</th>\n",
       "      <td>0</td>\n",
       "      <td>0</td>\n",
       "      <td>0</td>\n",
       "      <td>0</td>\n",
       "      <td>1</td>\n",
       "      <td>0</td>\n",
       "      <td>0</td>\n",
       "      <td>0</td>\n",
       "      <td>0</td>\n",
       "      <td>0</td>\n",
       "      <td>...</td>\n",
       "      <td>0</td>\n",
       "      <td>0</td>\n",
       "      <td>0</td>\n",
       "      <td>0</td>\n",
       "      <td>0</td>\n",
       "      <td>0</td>\n",
       "      <td>0</td>\n",
       "      <td>0</td>\n",
       "      <td>4.42</td>\n",
       "      <td>6333</td>\n",
       "    </tr>\n",
       "    <tr>\n",
       "      <th>Harry Potter and the Prisoner of Azkaban (Harry Potter  #3)</th>\n",
       "      <td>0</td>\n",
       "      <td>0</td>\n",
       "      <td>0</td>\n",
       "      <td>0</td>\n",
       "      <td>1</td>\n",
       "      <td>0</td>\n",
       "      <td>0</td>\n",
       "      <td>0</td>\n",
       "      <td>0</td>\n",
       "      <td>0</td>\n",
       "      <td>...</td>\n",
       "      <td>0</td>\n",
       "      <td>0</td>\n",
       "      <td>0</td>\n",
       "      <td>0</td>\n",
       "      <td>0</td>\n",
       "      <td>0</td>\n",
       "      <td>0</td>\n",
       "      <td>0</td>\n",
       "      <td>4.56</td>\n",
       "      <td>2339585</td>\n",
       "    </tr>\n",
       "    <tr>\n",
       "      <th>Harry Potter Boxed Set  Books 1-5 (Harry Potter  #1-5)</th>\n",
       "      <td>0</td>\n",
       "      <td>0</td>\n",
       "      <td>0</td>\n",
       "      <td>0</td>\n",
       "      <td>1</td>\n",
       "      <td>0</td>\n",
       "      <td>0</td>\n",
       "      <td>0</td>\n",
       "      <td>0</td>\n",
       "      <td>0</td>\n",
       "      <td>...</td>\n",
       "      <td>0</td>\n",
       "      <td>0</td>\n",
       "      <td>0</td>\n",
       "      <td>0</td>\n",
       "      <td>0</td>\n",
       "      <td>0</td>\n",
       "      <td>0</td>\n",
       "      <td>0</td>\n",
       "      <td>4.78</td>\n",
       "      <td>41428</td>\n",
       "    </tr>\n",
       "  </tbody>\n",
       "</table>\n",
       "<p>5 rows × 34 columns</p>\n",
       "</div>"
      ],
      "text/plain": [
       "                                                    between 0 and 1  \\\n",
       "title                                                                 \n",
       "Harry Potter and the Half-Blood Prince (Harry P...                0   \n",
       "Harry Potter and the Order of the Phoenix (Harr...                0   \n",
       "Harry Potter and the Chamber of Secrets (Harry ...                0   \n",
       "Harry Potter and the Prisoner of Azkaban (Harry...                0   \n",
       "Harry Potter Boxed Set  Books 1-5 (Harry Potter...                0   \n",
       "\n",
       "                                                    between 1 and 2  \\\n",
       "title                                                                 \n",
       "Harry Potter and the Half-Blood Prince (Harry P...                0   \n",
       "Harry Potter and the Order of the Phoenix (Harr...                0   \n",
       "Harry Potter and the Chamber of Secrets (Harry ...                0   \n",
       "Harry Potter and the Prisoner of Azkaban (Harry...                0   \n",
       "Harry Potter Boxed Set  Books 1-5 (Harry Potter...                0   \n",
       "\n",
       "                                                    between 2 and 3  \\\n",
       "title                                                                 \n",
       "Harry Potter and the Half-Blood Prince (Harry P...                0   \n",
       "Harry Potter and the Order of the Phoenix (Harr...                0   \n",
       "Harry Potter and the Chamber of Secrets (Harry ...                0   \n",
       "Harry Potter and the Prisoner of Azkaban (Harry...                0   \n",
       "Harry Potter Boxed Set  Books 1-5 (Harry Potter...                0   \n",
       "\n",
       "                                                    between 3 and 4  \\\n",
       "title                                                                 \n",
       "Harry Potter and the Half-Blood Prince (Harry P...                0   \n",
       "Harry Potter and the Order of the Phoenix (Harr...                0   \n",
       "Harry Potter and the Chamber of Secrets (Harry ...                0   \n",
       "Harry Potter and the Prisoner of Azkaban (Harry...                0   \n",
       "Harry Potter Boxed Set  Books 1-5 (Harry Potter...                0   \n",
       "\n",
       "                                                    between 4 and 5  ale  ara  \\\n",
       "title                                                                           \n",
       "Harry Potter and the Half-Blood Prince (Harry P...                1    0    0   \n",
       "Harry Potter and the Order of the Phoenix (Harr...                1    0    0   \n",
       "Harry Potter and the Chamber of Secrets (Harry ...                1    0    0   \n",
       "Harry Potter and the Prisoner of Azkaban (Harry...                1    0    0   \n",
       "Harry Potter Boxed Set  Books 1-5 (Harry Potter...                1    0    0   \n",
       "\n",
       "                                                    en-CA  en-GB  en-US  ...  \\\n",
       "title                                                                    ...   \n",
       "Harry Potter and the Half-Blood Prince (Harry P...      0      0      0  ...   \n",
       "Harry Potter and the Order of the Phoenix (Harr...      0      0      0  ...   \n",
       "Harry Potter and the Chamber of Secrets (Harry ...      0      0      0  ...   \n",
       "Harry Potter and the Prisoner of Azkaban (Harry...      0      0      0  ...   \n",
       "Harry Potter Boxed Set  Books 1-5 (Harry Potter...      0      0      0  ...   \n",
       "\n",
       "                                                    por  rus  spa  srp  swe  \\\n",
       "title                                                                         \n",
       "Harry Potter and the Half-Blood Prince (Harry P...    0    0    0    0    0   \n",
       "Harry Potter and the Order of the Phoenix (Harr...    0    0    0    0    0   \n",
       "Harry Potter and the Chamber of Secrets (Harry ...    0    0    0    0    0   \n",
       "Harry Potter and the Prisoner of Azkaban (Harry...    0    0    0    0    0   \n",
       "Harry Potter Boxed Set  Books 1-5 (Harry Potter...    0    0    0    0    0   \n",
       "\n",
       "                                                    tur  wel  zho  \\\n",
       "title                                                               \n",
       "Harry Potter and the Half-Blood Prince (Harry P...    0    0    0   \n",
       "Harry Potter and the Order of the Phoenix (Harr...    0    0    0   \n",
       "Harry Potter and the Chamber of Secrets (Harry ...    0    0    0   \n",
       "Harry Potter and the Prisoner of Azkaban (Harry...    0    0    0   \n",
       "Harry Potter Boxed Set  Books 1-5 (Harry Potter...    0    0    0   \n",
       "\n",
       "                                                    average_rating  \\\n",
       "title                                                                \n",
       "Harry Potter and the Half-Blood Prince (Harry P...            4.57   \n",
       "Harry Potter and the Order of the Phoenix (Harr...            4.49   \n",
       "Harry Potter and the Chamber of Secrets (Harry ...            4.42   \n",
       "Harry Potter and the Prisoner of Azkaban (Harry...            4.56   \n",
       "Harry Potter Boxed Set  Books 1-5 (Harry Potter...            4.78   \n",
       "\n",
       "                                                    ratings_count  \n",
       "title                                                              \n",
       "Harry Potter and the Half-Blood Prince (Harry P...        2095690  \n",
       "Harry Potter and the Order of the Phoenix (Harr...        2153167  \n",
       "Harry Potter and the Chamber of Secrets (Harry ...           6333  \n",
       "Harry Potter and the Prisoner of Azkaban (Harry...        2339585  \n",
       "Harry Potter Boxed Set  Books 1-5 (Harry Potter...          41428  \n",
       "\n",
       "[5 rows x 34 columns]"
      ]
     },
     "execution_count": 57,
     "metadata": {},
     "output_type": "execute_result"
    }
   ],
   "source": [
    "features = pd.concat([rating_df,language_df, df['average_rating'],\n",
    "                    df['ratings_count'], df['title']], axis = 1)\n",
    "features.set_index('title', inplace= True)\n",
    "features.head()"
   ]
  },
  {
   "cell_type": "code",
   "execution_count": 58,
   "id": "65920901",
   "metadata": {},
   "outputs": [],
   "source": [
    "from sklearn.preprocessing import MinMaxScaler "
   ]
  },
  {
   "cell_type": "code",
   "execution_count": 59,
   "id": "036d5324",
   "metadata": {},
   "outputs": [],
   "source": [
    "scaler = MinMaxScaler()\n",
    "features_scaled = scaler.fit_transform(features)"
   ]
  },
  {
   "cell_type": "code",
   "execution_count": 60,
   "id": "1096f0ae",
   "metadata": {},
   "outputs": [
    {
     "data": {
      "text/plain": [
       "array([[0.00000000e+00, 0.00000000e+00, 0.00000000e+00, ...,\n",
       "        0.00000000e+00, 9.14000000e-01, 4.55816060e-01],\n",
       "       [0.00000000e+00, 0.00000000e+00, 0.00000000e+00, ...,\n",
       "        0.00000000e+00, 8.98000000e-01, 4.68317403e-01],\n",
       "       [0.00000000e+00, 0.00000000e+00, 0.00000000e+00, ...,\n",
       "        0.00000000e+00, 8.84000000e-01, 1.37743803e-03],\n",
       "       ...,\n",
       "       [0.00000000e+00, 0.00000000e+00, 0.00000000e+00, ...,\n",
       "        0.00000000e+00, 7.92000000e-01, 1.78351363e-04],\n",
       "       [0.00000000e+00, 0.00000000e+00, 0.00000000e+00, ...,\n",
       "        0.00000000e+00, 7.44000000e-01, 1.67258779e-04],\n",
       "       [0.00000000e+00, 0.00000000e+00, 0.00000000e+00, ...,\n",
       "        0.00000000e+00, 7.82000000e-01, 2.45776879e-05]])"
      ]
     },
     "execution_count": 60,
     "metadata": {},
     "output_type": "execute_result"
    }
   ],
   "source": [
    "features_scaled"
   ]
  },
  {
   "cell_type": "markdown",
   "id": "18fd0a89",
   "metadata": {},
   "source": [
    "# Model Building"
   ]
  },
  {
   "cell_type": "code",
   "execution_count": 62,
   "id": "c28ebf5f",
   "metadata": {},
   "outputs": [],
   "source": [
    "from sklearn import neighbors"
   ]
  },
  {
   "cell_type": "code",
   "execution_count": 64,
   "id": "94cc4eed",
   "metadata": {},
   "outputs": [],
   "source": [
    "model = neighbors.NearestNeighbors(n_neighbors=5, algorithm = 'ball_tree',\n",
    "                                  metric = 'euclidean')\n",
    "model.fit(features_scaled)\n",
    "dist, idlist = model.kneighbors(features_scaled)"
   ]
  },
  {
   "cell_type": "code",
   "execution_count": 66,
   "id": "6477edc2",
   "metadata": {},
   "outputs": [
    {
     "data": {
      "text/plain": [
       "The Brothers Karamazov                                 9\n",
       "The Iliad                                              9\n",
       "Anna Karenina                                          8\n",
       "Gulliver's Travels                                     8\n",
       "The Odyssey                                            8\n",
       "                                                      ..\n",
       "The Punisher  Vol. 6: Confederacy of Dunces            1\n",
       "The End of Days (The Earth Chronicles  #7)             1\n",
       "Chronicle of a Death Foretold                          1\n",
       "Star Trek: Logs Five and Six (Star Trek: Log  #5-6)    1\n",
       "Berlin: The Downfall  1945                             1\n",
       "Name: title, Length: 10348, dtype: int64"
      ]
     },
     "execution_count": 66,
     "metadata": {},
     "output_type": "execute_result"
    }
   ],
   "source": [
    "df['title'].value_counts()"
   ]
  },
  {
   "cell_type": "code",
   "execution_count": 67,
   "id": "1d7d5e2a",
   "metadata": {},
   "outputs": [
    {
     "data": {
      "application/vnd.jupyter.widget-view+json": {
       "model_id": "113396f224ea48aab5f6a2ebf50c83d5",
       "version_major": 2,
       "version_minor": 0
      },
      "text/plain": [
       "interactive(children=(Dropdown(description='book_name', options=('The Brothers Karamazov', 'The Iliad', 'Anna …"
      ]
     },
     "metadata": {},
     "output_type": "display_data"
    }
   ],
   "source": [
    "@interact\n",
    "def BookRecomender(book_name = list(df['title'].value_counts().index)):\n",
    "    book_list_name = []\n",
    "    book_id = df[df['title'] == book_name.index]\n",
    "    book_id = book_id[0]\n",
    "    for newid in idlist[book_id]:\n",
    "        book_list_name.append(df.iloc[newid].title)\n",
    "    return book_list_name"
   ]
  },
  {
   "cell_type": "code",
   "execution_count": null,
   "id": "cabcbdef",
   "metadata": {},
   "outputs": [],
   "source": []
  }
 ],
 "metadata": {
  "kernelspec": {
   "display_name": "Python 3",
   "language": "python",
   "name": "python3"
  },
  "language_info": {
   "codemirror_mode": {
    "name": "ipython",
    "version": 3
   },
   "file_extension": ".py",
   "mimetype": "text/x-python",
   "name": "python",
   "nbconvert_exporter": "python",
   "pygments_lexer": "ipython3",
   "version": "3.8.5"
  }
 },
 "nbformat": 4,
 "nbformat_minor": 5
}
